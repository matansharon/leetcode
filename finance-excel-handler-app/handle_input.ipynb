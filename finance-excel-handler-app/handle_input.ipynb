{
 "cells": [
  {
   "cell_type": "code",
   "execution_count": null,
   "id": "42b7a347",
   "metadata": {},
   "outputs": [],
   "source": [
    "import pyodbc\n",
    "import pandas as pd\n",
    "import numpy as np\n",
    "conn = pyodbc.connect('Driver={IBM i Access ODBC Driver}; '\n",
    "       'SYSTEM = 192.168.0.161;'\n",
    "        'Hostname=M3; '\n",
    "        'Port=21; '\n",
    "        'Protocol=TCPIP; '\n",
    "        'Database=M3; '\n",
    "        'UID=pud; '\n",
    "        'PWD = Pud142;'\n",
    "        ,autocommit=True)"
   ]
  },
  {
   "cell_type": "code",
   "execution_count": null,
   "id": "73398d5a",
   "metadata": {},
   "outputs": [],
   "source": [
    "def clean_and_dict(list_of_data):\n",
    "    res={}\n",
    "    for row in list_of_data:\n",
    "        \n",
    "\n",
    "        temp=\"\"\n",
    "        for j in row:\n",
    "            \n",
    "            if type(j)==float:\n",
    "                print(j)\n",
    "                temp+=str(int(j)).strip()\n",
    "            else:\n",
    "                temp+=str(j).strip()\n",
    "        if temp not in res:\n",
    "            res[temp]=row\n",
    "    return res"
   ]
  },
  {
   "cell_type": "code",
   "execution_count": null,
   "id": "71f2df2d",
   "metadata": {},
   "outputs": [],
   "source": [
    "sql=\"SELECT * FROM MATAN.MCWCCO\"\n",
    "# mcwcco=pd.read_sql(sql,conn)\n",
    "# mcwcco_cols_values=mcwcco.columns.values\n",
    "corsor=conn.cursor()\n",
    "mcwcco=cursor.execute(sql).fetchall()\n",
    "mcwcco_dict=clean_and_dict(mcwcco)\n"
   ]
  },
  {
   "cell_type": "code",
   "execution_count": 240,
   "id": "ce84a61e",
   "metadata": {},
   "outputs": [],
   "source": [
    "new_data=pd.read_csv(\"new_data.csv\")\n"
   ]
  },
  {
   "cell_type": "code",
   "execution_count": 263,
   "id": "85c1e46e",
   "metadata": {},
   "outputs": [],
   "source": [
    "\n",
    "_list=[]\n",
    "for i in range(len(new_data)):\n",
    "    row=new_data.iloc[i]\n",
    "    \n",
    "    temp=[1,int(row[0]),row.cost,int(row.price_type),row.work_center,\"\",\"\",20221208]\n",
    "    if row.price_type==1:\n",
    "        temp.append(row[5] )\n",
    "    if row.price_type==5:\n",
    "        temp.append(row[6])\n",
    "    temp.append(20221114)\n",
    "    temp.append(130000)\n",
    "    temp.append(20221114)\n",
    "    temp.append(1)\n",
    "    temp.append(\"it_admin_matan\")\n",
    "    temp=tuple(temp)\n",
    "    _list.append(temp)\n",
    "\n"
   ]
  },
  {
   "cell_type": "code",
   "execution_count": 262,
   "id": "513f9fde",
   "metadata": {},
   "outputs": [
    {
     "data": {
      "text/plain": [
       "<pyodbc.Cursor at 0x23b33570bb0>"
      ]
     },
     "execution_count": 262,
     "metadata": {},
     "output_type": "execute_result"
    }
   ],
   "source": [
    "cursor.execute(\"delete from MATAN.MCWCCO where KECHID='it_admin_matan'\")"
   ]
  },
  {
   "cell_type": "code",
   "execution_count": 264,
   "id": "8edba1b8",
   "metadata": {},
   "outputs": [],
   "source": [
    "try:\n",
    "    conn.autocommit = False\n",
    "    \n",
    "    cursor.executemany(\"insert into MATAN.MCWCCO(KECONO,KEFACI,KECCOM,KEPCTP,KEOBV1,KEOBV2,KEOBV3,KEFRDT,KECDPR,KERGDT,KERGTM,KELMDT,KECHNO,KECHID) values (?, ?,?, ?, ?, ?, ?, ?, ?, ?, ?, ?, ?, ?)\", _list)\n",
    "except pyodbc.DatabaseError as err:\n",
    "    print(err)\n",
    "    conn.rollback()\n",
    "else:\n",
    "    conn.commit()\n",
    "finally:\n",
    "    conn.autocommit = True"
   ]
  }
 ],
 "metadata": {
  "kernelspec": {
   "display_name": "Python 3 (ipykernel)",
   "language": "python",
   "name": "python3"
  },
  "language_info": {
   "codemirror_mode": {
    "name": "ipython",
    "version": 3
   },
   "file_extension": ".py",
   "mimetype": "text/x-python",
   "name": "python",
   "nbconvert_exporter": "python",
   "pygments_lexer": "ipython3",
   "version": "3.9.13"
  }
 },
 "nbformat": 4,
 "nbformat_minor": 5
}
