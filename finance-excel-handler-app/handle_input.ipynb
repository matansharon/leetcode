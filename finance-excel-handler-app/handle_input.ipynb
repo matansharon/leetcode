{
 "cells": [
  {
   "cell_type": "code",
   "execution_count": 212,
   "id": "42b7a347",
   "metadata": {},
   "outputs": [],
   "source": [
    "import pyodbc\n",
    "import pandas as pd\n",
    "import numpy as np\n",
    "conn = pyodbc.connect('Driver={IBM i Access ODBC Driver}; '\n",
    "       'SYSTEM = 192.168.0.161;'\n",
    "        'Hostname=M3; '\n",
    "        'Port=21; '\n",
    "        'Protocol=TCPIP; '\n",
    "        'Database=M3; '\n",
    "        'UID=pud; '\n",
    "        'PWD = Pud142;'\n",
    "        ,autocommit=True)"
   ]
  },
  {
   "cell_type": "code",
   "execution_count": 209,
   "id": "71f2df2d",
   "metadata": {},
   "outputs": [
    {
     "name": "stderr",
     "output_type": "stream",
     "text": [
      "C:\\Users\\matan.s\\Anaconda3\\lib\\site-packages\\pandas\\io\\sql.py:762: UserWarning: pandas only support SQLAlchemy connectable(engine/connection) ordatabase string URI or sqlite3 DBAPI2 connectionother DBAPI2 objects are not tested, please consider using SQLAlchemy\n",
      "  warnings.warn(\n"
     ]
    }
   ],
   "source": [
    "sql=\"SELECT * FROM MATAN.MCWCCO\"\n",
    "mcwcco=pd.read_sql(sql,conn)\n",
    "mcwcco_cols_values=mcwcco.columns.values\n",
    "\n"
   ]
  },
  {
   "cell_type": "code",
   "execution_count": 222,
   "id": "10b44528",
   "metadata": {},
   "outputs": [
    {
     "name": "stdout",
     "output_type": "stream",
     "text": [
      "85070\n"
     ]
    }
   ],
   "source": [
    "\n",
    "res={}\n",
    "for i in range(len(mcwcco)):\n",
    "    row=mcwcco.iloc[i]\n",
    "    \n",
    "    temp=\"\"\n",
    "    for j in range(len(row)):\n",
    "        if type(row[j])==np.float64:\n",
    "            temp+=str(np.int64(row[j])).strip()\n",
    "        else:\n",
    "            temp+=str(row[j]).strip()\n",
    "    if temp not in res:\n",
    "        res[temp]=row\n",
    "print(len(res))"
   ]
  },
  {
   "cell_type": "code",
   "execution_count": 199,
   "id": "d2967a2a",
   "metadata": {},
   "outputs": [
    {
     "name": "stdout",
     "output_type": "stream",
     "text": [
      "['fact' 'cost' 'price_type' 'work_center' 'date_update' ' ct1 ' ' ct5 '\n",
      " ' cost_type6 ' 'cost_type7' 'department' 'Unnamed: 10' 'Unnamed: 11'\n",
      " 'Unnamed: 12']\n"
     ]
    }
   ],
   "source": [
    "new_data=pd.read_csv(\"new_data.csv\")\n",
    "\n",
    "res={}\n",
    "for i in mcwcco_cols_values:\n",
    "        \n",
    "        res[i]=[]\n",
    "print((new_data.columns.values))"
   ]
  },
  {
   "cell_type": "code",
   "execution_count": null,
   "id": "9088e3c8",
   "metadata": {},
   "outputs": [],
   "source": [
    "# cnt=0\n",
    "# new_rows=[]\n",
    "# for i in range(len(new_data)):\n",
    "#     row=new_data.iloc[i]\n",
    "#     new_row={}\n",
    "    \n",
    "#     for j in mcwcco_cols_values:\n",
    "#         if j==\"KECONO\":\n",
    "#             new_row[j]=1\n",
    "#         if j==\"KEFACI\":\n",
    "#             new_row[j]=row.fact\n",
    "#         if j==\"KECCOM\":\n",
    "#             new_row[j]=row.cost\n",
    "#         if j==\"KEPCTP\":\n",
    "#             new_row[j]=row.price_type\n",
    "#         if j==\"KEOBV1\":\n",
    "#             new_row[j]=row.work_center\n",
    "#         if j==\"KEOBV2\":\n",
    "#             new_row[j]=\"\"\n",
    "#         if j==\"KEOBV2\":\n",
    "#             new_row[j]=\"\"   \n",
    "#         if j==\"KEOBV3\":\n",
    "#             new_row[j]=\"\"\n",
    "#         if j==\"KEFRDT\":\n",
    "#             new_row[j]=20220501\n",
    "#         if j==\"KEFRDT\":\n",
    "#             if row.price_type==1:\n",
    "#                 new_row[j]=row.values[5]\n",
    "#             if row.price_type==5:\n",
    "#                 new_row[j]=row.values[6]\n",
    "#             if row.price_type==6:\n",
    "#                 new_row[j]=row.row.values[7]\n",
    "#             if row.price_type==7:\n",
    "#                 new_row[j]=row.row.values[8]\n",
    "#         if j==\"KERGDT\":\n",
    "#             new_row[j]=20221114\n",
    "#         if j==\"KERGTM\":\n",
    "#             new_row[j]=130000\n",
    "#         if j==\"KELMDT\":\n",
    "#             new_row[j]=20221114\n",
    "#         if j==\"KECHNO\":\n",
    "#             new_row[j]=1\n",
    "#         if j==\"KECHID\":\n",
    "#             new_row[j]=\"ITADMINMATAN\"\n",
    "\n",
    "#     new_rows.append(new_row)\n",
    "    "
   ]
  },
  {
   "cell_type": "code",
   "execution_count": 200,
   "id": "2710f06d",
   "metadata": {},
   "outputs": [],
   "source": [
    "\n",
    "_list=[]\n",
    "for i in range(len(new_data)):\n",
    "    row=new_data.iloc[i]\n",
    "    \n",
    "    temp=[1,row[0],row.cost,row.price_type,row.work_center,\"\",\"\",row.date_update]\n",
    "    if row.price_type==1:\n",
    "        temp.append(row[5] )\n",
    "    if row.price_type==5:\n",
    "        temp.append(row[6])\n",
    "    temp.append(20221114)\n",
    "    temp.append(130000)\n",
    "    temp.append(20221114)\n",
    "    temp.append(1)\n",
    "    temp.append(\"it_admin_matan\")\n",
    "    _list.append((temp))\n",
    "\n"
   ]
  },
  {
   "cell_type": "code",
   "execution_count": 195,
   "id": "e2c0a8a8",
   "metadata": {},
   "outputs": [
    {
     "name": "stdout",
     "output_type": "stream",
     "text": [
      "[1, 100, 'B01', 1, 'WC411', '', '', 20221207, ' 22.93 ', 20221114, 130000, 20221114, 1, 'it_admin_matan']\n",
      "[1, 100, 'B01', 1, 'WC412', '', '', 20221207, ' 22.93 ', 20221114, 130000, 20221114, 1, 'it_admin_matan']\n",
      "[1, 100, 'B01', 1, 'WC413', '', '', 20221207, ' 22.93 ', 20221114, 130000, 20221114, 1, 'it_admin_matan']\n",
      "[1, 100, 'B01', 1, 'WC450', '', '', 20221207, ' 22.93 ', 20221114, 130000, 20221114, 1, 'it_admin_matan']\n",
      "[1, 100, 'B01', 1, 'WC500', '', '', 20221207, ' 22.93 ', 20221114, 130000, 20221114, 1, 'it_admin_matan']\n",
      "[1, 100, 'B01', 1, 'WC512', '', '', 20221207, ' 22.93 ', 20221114, 130000, 20221114, 1, 'it_admin_matan']\n",
      "[1, 100, 'B01', 1, 'WC525', '', '', 20221207, ' 22.93 ', 20221114, 130000, 20221114, 1, 'it_admin_matan']\n",
      "[1, 100, 'B01', 1, 'WC709', '', '', 20221207, ' 7.00 ', 20221114, 130000, 20221114, 1, 'it_admin_matan']\n",
      "[1, 100, 'B01', 1, 'WC752', '', '', 20221207, ' 22.93 ', 20221114, 130000, 20221114, 1, 'it_admin_matan']\n",
      "[1, 100, 'B01', 1, 'WC777', '', '', 20221207, ' 22.93 ', 20221114, 130000, 20221114, 1, 'it_admin_matan']\n",
      "[1, 100, 'B01', 1, 'WC790', '', '', 20221207, ' 22.93 ', 20221114, 130000, 20221114, 1, 'it_admin_matan']\n",
      "[1, 100, 'B01', 1, 'WCASS204', '', '', 20221207, ' 22.93 ', 20221114, 130000, 20221114, 1, 'it_admin_matan']\n",
      "[1, 100, 'B01', 1, 'WCASS209', '', '', 20221207, ' 22.93 ', 20221114, 130000, 20221114, 1, 'it_admin_matan']\n",
      "[1, 100, 'B01', 1, 'WCASS215', '', '', 20221207, ' 22.93 ', 20221114, 130000, 20221114, 1, 'it_admin_matan']\n",
      "[1, 100, 'B01', 1, 'WCASS223', '', '', 20221207, ' 22.93 ', 20221114, 130000, 20221114, 1, 'it_admin_matan']\n",
      "[1, 100, 'B01', 1, 'WCASS224', '', '', 20221207, ' 22.93 ', 20221114, 130000, 20221114, 1, 'it_admin_matan']\n",
      "[1, 100, 'B01', 1, 'WCASS702', '', '', 20221207, ' 22.93 ', 20221114, 130000, 20221114, 1, 'it_admin_matan']\n",
      "[1, 100, 'B01', 1, 'WCASS703', '', '', 20221207, ' 22.93 ', 20221114, 130000, 20221114, 1, 'it_admin_matan']\n",
      "[1, 100, 'B01', 1, 'WCMO01', '', '', 20221207, ' 22.93 ', 20221114, 130000, 20221114, 1, 'it_admin_matan']\n",
      "[1, 100, 'B01', 1, 'WCUSW04', '', '', 20221207, ' 22.93 ', 20221114, 130000, 20221114, 1, 'it_admin_matan']\n"
     ]
    }
   ],
   "source": []
  },
  {
   "cell_type": "code",
   "execution_count": 201,
   "id": "5cade8ad",
   "metadata": {},
   "outputs": [],
   "source": [
    "from random import randint,choice\n",
    "cursor=conn.cursor()\n",
    "l=[]\n",
    "for i in range(10):\n",
    "    temp=(i,choice([\"matan\",\"raz\",\"romi\",\"may\"]),randint(1,40),randint(2000,2022))\n",
    "    l.append(temp)\n",
    "for row in l:\n",
    "    cursor.execute(\"insert into MATAN.test1(id,name,age,date) values(?,?,?,?)\",row)\n"
   ]
  },
  {
   "cell_type": "code",
   "execution_count": 174,
   "id": "34e5fb8e",
   "metadata": {},
   "outputs": [
    {
     "data": {
      "text/plain": [
       "(1, 700, 'B09   ', 1, 'WCP25          ', '               ', '               ', 20151101, 31.440000534057617, 20151130, 183212, 20151130, 38, 'VIRNA     ')"
      ]
     },
     "execution_count": 174,
     "metadata": {},
     "output_type": "execute_result"
    }
   ],
   "source": []
  }
 ],
 "metadata": {
  "kernelspec": {
   "display_name": "Python 3 (ipykernel)",
   "language": "python",
   "name": "python3"
  },
  "language_info": {
   "codemirror_mode": {
    "name": "ipython",
    "version": 3
   },
   "file_extension": ".py",
   "mimetype": "text/x-python",
   "name": "python",
   "nbconvert_exporter": "python",
   "pygments_lexer": "ipython3",
   "version": "3.9.13"
  }
 },
 "nbformat": 4,
 "nbformat_minor": 5
}
