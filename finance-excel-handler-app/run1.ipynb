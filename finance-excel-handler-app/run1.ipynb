{
 "cells": [
  {
   "cell_type": "code",
   "execution_count": null,
   "id": "743b8de5",
   "metadata": {},
   "outputs": [],
   "source": [
    "# %%time\n",
    "# #MILOMA מתחילים עם טבלת\n",
    "# #מלכתחילה מביאים את המקט והלוט הראשוניים.\n",
    "# # LMRORN מוציאים מהטבלה את השדה\n",
    "# product_number='566011'\n",
    "# bano='2225890201'\n",
    "# sql=f\"SELECT LMRORN FROM M3FDBTST.MILOMA \\\n",
    "# WHERE LMCONO =1 AND LMITNO ='{product_number}' AND LMBANO ='{bano}'\"\n",
    "# # sql=\"SELECT * FROM M3FDBTST.MILOMA\"\n",
    "# miloma_table = pd.read_sql(sql,conn)\n",
    "# lmrorn=miloma_table.iloc[0].LMRORN\n"
   ]
  },
  {
   "cell_type": "code",
   "execution_count": null,
   "id": "c59921d5",
   "metadata": {},
   "outputs": [],
   "source": [
    "# sql=f\"SELECT VMMTNO FROM M3FDBTST.MWOMAT \\\n",
    "# WHERE VMCONO =1 AND  VMMFNO='{lmrorn}'\"\n",
    "# MWOMAT_table=pd.read_sql(sql,conn)\n",
    "# matiriels=[]\n",
    "# for i in range(len(MWOMAT_table)):\n",
    "#     matiriels.append(MWOMAT_table.iloc[i][0].strip())\n",
    "# # print(MWOMAT_table)"
   ]
  },
  {
   "cell_type": "code",
   "execution_count": null,
   "id": "e6743423",
   "metadata": {},
   "outputs": [],
   "source": [
    "# # sql=f\"SELECT MMITTY FROM M3FDBTST.MITMAS \\\n",
    "# # WHERE MMCONO =1 AND MMITNO ='{matiriels[0]}'\"\n",
    "# # mitmas=pd.read_sql(sql,conn)\n",
    "# for m in matiriels:\n",
    "#     sql=f\"SELECT MMITTY FROM M3FDBTST.MITMAS \\\n",
    "#     WHERE MMCONO =1 AND MMITNO ='{m}'\"\n",
    "#     temp=pd.read_sql(sql,conn)\n",
    "#     print(temp.iloc[0][0])\n"
   ]
  },
  {
   "cell_type": "code",
   "execution_count": null,
   "id": "f532ae67",
   "metadata": {},
   "outputs": [],
   "source": [
    "import pyodbc\n",
    "import pandas as pd\n",
    "conn = pyodbc.connect('Driver={IBM i Access ODBC Driver}; '\n",
    "       'SYSTEM = 192.168.0.161;'\n",
    "        'Hostname=M3; '\n",
    "        'Port=21; '\n",
    "        'Protocol=TCPIP; '\n",
    "        'Database=M3; '\n",
    "        'UID=pud; '\n",
    "        'PWD = Pud142;'\n",
    "        ,autocommit=True)"
   ]
  },
  {
   "cell_type": "code",
   "execution_count": 43,
   "id": "9c9cabcf",
   "metadata": {},
   "outputs": [],
   "source": [
    "from datetime import datetime, timedelta\n",
    "from random import random\n",
    "def gen_datetime(min_year=1900, max_year=datetime.now().year):\n",
    "    \n",
    "    start = datetime(min_year, 1, 1, 0, 0, 0)\n",
    "    years = max_year - min_year + 1\n",
    "    end = start + timedelta(days=365 * years)\n",
    "    return start + (end - start) * random()"
   ]
  },
  {
   "cell_type": "code",
   "execution_count": null,
   "id": "ac58e4be",
   "metadata": {},
   "outputs": [],
   "source": [
    "def get_paka(itno,bano):\n",
    "    sql=f\"SELECT LMRORN FROM M3FDBTST.MILOMA \\\n",
    "    WHERE LMCONO =1 AND LMITNO ='{itno}' AND LMBANO ='{bano}'\"\n",
    "    table = pd.read_sql(sql,conn)\n",
    "    return(table.iloc[0][0].strip())\n"
   ]
  },
  {
   "cell_type": "code",
   "execution_count": null,
   "id": "0974fa9b",
   "metadata": {},
   "outputs": [],
   "source": []
  },
  {
   "cell_type": "code",
   "execution_count": null,
   "id": "241f33b9",
   "metadata": {},
   "outputs": [],
   "source": [
    "def get_bano(item,mo):\n",
    "    sql=f\"SELECT VMBANO  FROM M3FDBTST.MWOMAT WHERE VMCONO =1 AND  VMMTNO ='{item}' and   VMMFNO='{mo}'\"\n",
    "    table=pd.read_sql(sql,conn)\n",
    "    try:\n",
    "        return table.iloc[0][0].strip()\n",
    "    except:\n",
    "        return \"\"\n"
   ]
  },
  {
   "cell_type": "code",
   "execution_count": null,
   "id": "f4688461",
   "metadata": {},
   "outputs": [],
   "source": [
    "def get_all_matiriels(paka):\n",
    "    sql=f\"SELECT VMMTNO,VMBANO FROM M3FDBTST.MWOMAT \\\n",
    "    WHERE VMCONO =1 AND  VMMFNO='{paka}'\"\n",
    "    list_of_matiriels=pd.read_sql(sql,conn)\n",
    "    res=[]\n",
    "    for i in range(len(list_of_matiriels)):\n",
    "        res.append([list_of_matiriels.iloc[i][0].strip(),list_of_matiriels.iloc[i][1].strip()])\n",
    "    return (res)\n"
   ]
  },
  {
   "cell_type": "code",
   "execution_count": null,
   "id": "9860eeb1",
   "metadata": {},
   "outputs": [],
   "source": [
    "def check_type(itno):\n",
    "    sql=f\"SELECT MMITTY FROM M3FDBTST.MITMAS WHERE MMCONO =1 AND MMITNO ='{itno}'\"\n",
    "    table=pd.read_sql(sql,conn)\n",
    "#     print(table.iloc[0][0].strip())\n",
    "    return table.iloc[0][0].strip()\n"
   ]
  },
  {
   "cell_type": "code",
   "execution_count": null,
   "id": "4ac4408e",
   "metadata": {},
   "outputs": [],
   "source": [
    "def get_item_description(itno):\n",
    "    sql=f\"SELECT MMITDS FROM M3FDBTST.MITMAS WHERE MMCONO =1 AND MMITNO ='{itno}'\"\n",
    "    table=pd.read_sql(sql,conn)\n",
    "    if len(table)>0:\n",
    "        return table.iloc[0][0].strip()"
   ]
  },
  {
   "cell_type": "code",
   "execution_count": null,
   "id": "5fec303d",
   "metadata": {},
   "outputs": [],
   "source": [
    "def run(item,lot):\n",
    "    paka=get_paka(item,lot)\n",
    "    matiriels=get_all_matiriels(paka)\n",
    "    res=[]\n",
    "    for i in matiriels:\n",
    "#         print(i)\n",
    "        if check_type(i[0])==\"02\":\n",
    "            res.append(i[0])\n",
    "        elif check_type(i[0])==\"12\":\n",
    "#             print(i)\n",
    "            run(i[0],i[1])\n",
    "    for i in res:\n",
    "        mat.append(i)\n",
    "        \n",
    "item='566011'\n",
    "lot='2225890201'\n",
    "res=[]\n",
    "mat=[]\n",
    "run(item,lot)\n",
    "print(mat)\n",
    "\n",
    "for i in mat:\n",
    "    res.append(get_item_description(i))\n",
    "res.append(get_item_description(item))\n",
    "print(res)"
   ]
  },
  {
   "cell_type": "code",
   "execution_count": null,
   "id": "67198496",
   "metadata": {},
   "outputs": [],
   "source": []
  },
  {
   "cell_type": "code",
   "execution_count": 49,
   "id": "dec0e045",
   "metadata": {},
   "outputs": [
    {
     "name": "stdout",
     "output_type": "stream",
     "text": [
      "20150415\n",
      "20130106\n",
      "20200922\n",
      "20090820\n",
      "20110219\n",
      "20150501\n",
      "20200125\n",
      "20081121\n",
      "20120216\n",
      "20220409\n"
     ]
    }
   ],
   "source": [
    "from random import randint,choice\n",
    "\n",
    "ids=[]\n",
    "name=[]\n",
    "age=[]\n",
    "date=[]\n",
    "cnt=0\n",
    "for i in range(100000):\n",
    "    ids.append(i)\n",
    "    name.append(choice([\"matan\",\"raz\",\"romi\",\"may\"]))\n",
    "    age.append(randint(1,34))\n",
    "    dt=gen_datetime(2000,2022).strftime(\"%Y-%m-%d\")\n",
    "    dt=dt.split(\"-\")\n",
    "    temp=\"\"\n",
    "    for i in dt:\n",
    "        temp+=i\n",
    "    if cnt<10:\n",
    "        print(temp)\n",
    "        cnt+=1\n",
    "    date.append(dt)\n",
    "    \n",
    "cols=[\"id\",\"name\",\"age\",\"date\"]\n",
    "values=[ids,name,age,date]\n",
    "res={}\n",
    "for i in range(len(cols)):\n",
    "    res[cols[i]]=values[i]\n",
    "res=pd.DataFrame(res)\n",
    "# sql=f\"Create table MATAN.Test1 (id int, name varchar(10), age varchar(20), date varchar(20))\"\n",
    "\n"
   ]
  },
  {
   "cell_type": "code",
   "execution_count": null,
   "id": "a5b5f835",
   "metadata": {},
   "outputs": [],
   "source": [
    "# sql=f\"insert into MATAN.Test1 (id,name,age,date) values('1','matan','34','2022-12-07')\"\n",
    "# pd.read_sql_query(sql,conn)"
   ]
  },
  {
   "cell_type": "code",
   "execution_count": 45,
   "id": "ee76b896",
   "metadata": {},
   "outputs": [],
   "source": [
    "res.to_csv(\"test1.csv\")"
   ]
  }
 ],
 "metadata": {
  "kernelspec": {
   "display_name": "Python 3 (ipykernel)",
   "language": "python",
   "name": "python3"
  },
  "language_info": {
   "codemirror_mode": {
    "name": "ipython",
    "version": 3
   },
   "file_extension": ".py",
   "mimetype": "text/x-python",
   "name": "python",
   "nbconvert_exporter": "python",
   "pygments_lexer": "ipython3",
   "version": "3.9.13"
  }
 },
 "nbformat": 4,
 "nbformat_minor": 5
}
