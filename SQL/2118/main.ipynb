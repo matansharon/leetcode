{
 "cells": [
  {
   "cell_type": "code",
   "execution_count": 12,
   "id": "e0149579",
   "metadata": {},
   "outputs": [
    {
     "ename": "KeyboardInterrupt",
     "evalue": "",
     "output_type": "error",
     "traceback": [
      "\u001b[0;31m---------------------------------------------------------------------------\u001b[0m",
      "\u001b[0;31mKeyboardInterrupt\u001b[0m                         Traceback (most recent call last)",
      "Cell \u001b[0;32mIn [12], line 14\u001b[0m\n\u001b[1;32m     12\u001b[0m i\u001b[38;5;241m=\u001b[39m\u001b[38;5;241m0\u001b[39m\n\u001b[1;32m     13\u001b[0m \u001b[38;5;28;01mwhile\u001b[39;00m i\u001b[38;5;241m<\u001b[39m \u001b[38;5;28mlen\u001b[39m(res)\u001b[38;5;241m-\u001b[39m\u001b[38;5;241m1\u001b[39m:\n\u001b[0;32m---> 14\u001b[0m     \u001b[38;5;28;01mif\u001b[39;00m \u001b[43mres\u001b[49m[i]\u001b[38;5;241m==\u001b[39m\u001b[38;5;124m\"\u001b[39m\u001b[38;5;124m+\u001b[39m\u001b[38;5;124m\"\u001b[39m \u001b[38;5;129;01mand\u001b[39;00m res[i\u001b[38;5;241m+\u001b[39m\u001b[38;5;241m1\u001b[39m]\u001b[38;5;241m==\u001b[39m\u001b[38;5;124m\"\u001b[39m\u001b[38;5;124m-\u001b[39m\u001b[38;5;124m\"\u001b[39m:\n\u001b[1;32m     15\u001b[0m         res\u001b[38;5;241m=\u001b[39mres[:i]\u001b[38;5;241m+\u001b[39mres[i\u001b[38;5;241m+\u001b[39m\u001b[38;5;241m1\u001b[39m:]\n\u001b[1;32m     16\u001b[0m \u001b[38;5;28mprint\u001b[39m (res)\n",
      "\u001b[0;31mKeyboardInterrupt\u001b[0m: "
     ]
    }
   ],
   "source": [
    "import pandas as pd\n",
    "data=pd.read_csv(\"input.csv\")\n",
    "res=\"\"\n",
    "for i in range(len(data)):\n",
    "    row=data.iloc[i]\n",
    "    \n",
    "#     print(row.power,row.factor)\n",
    "    res+=str(row.factor)+\"X^\"+str(row.power)+\"+\"\n",
    "res=res[:-1]\n",
    "\n",
    "\n",
    "i=0\n",
    "while i< len(res)-1:\n",
    "    if res[i]==\"+\" and res[i+1]==\"-\":\n",
    "        res=res[:i]+res[i+1:]\n",
    "        i+1\n",
    "        \n",
    "print (res)"
   ]
  }
 ],
 "metadata": {
  "kernelspec": {
   "display_name": "Python 3 (ipykernel)",
   "language": "python",
   "name": "python3"
  },
  "language_info": {
   "codemirror_mode": {
    "name": "ipython",
    "version": 3
   },
   "file_extension": ".py",
   "mimetype": "text/x-python",
   "name": "python",
   "nbconvert_exporter": "python",
   "pygments_lexer": "ipython3",
   "version": "3.9.12"
  }
 },
 "nbformat": 4,
 "nbformat_minor": 5
}
