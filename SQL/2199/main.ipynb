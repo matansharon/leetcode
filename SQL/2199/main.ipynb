{
 "cells": [
  {
   "cell_type": "code",
   "execution_count": 13,
   "id": "9add5fef",
   "metadata": {},
   "outputs": [],
   "source": [
    "import pandas as pd"
   ]
  },
  {
   "cell_type": "code",
   "execution_count": 14,
   "id": "f669c18b",
   "metadata": {},
   "outputs": [],
   "source": [
    "keywords=pd.read_csv(\"keyword_table.csv\")\n",
    "keywords_dic={}\n",
    "for i in range(len(keywords)):\n",
    "    row=keywords.iloc[i]\n",
    "    for k,v in enumerate(row):\n",
    "        if v not in keywords_dic:\n",
    "            keywords_dic[v]=k\n"
   ]
  },
  {
   "cell_type": "code",
   "execution_count": 17,
   "id": "473f10cc",
   "metadata": {},
   "outputs": [],
   "source": [
    "posts=pd.read_csv(\"posts.csv\")\n",
    "posts_dic={}\n",
    "ids=[]\n",
    "topic=[]\n",
    "for i in range(len(posts)):\n",
    "    row=posts.iloc[i]\n",
    "    content=row.content.split(\" \")\n",
    "    temp=set()\n",
    "    for word in content:\n",
    "        if word in keywords_dic:\n",
    "            temp.add(keywords_dic[word])\n",
    "    s=\"\"\n",
    "    for j in temp:\n",
    "        s+=str(j)+\",\"\n",
    "    ids.append(row.post_id)\n",
    "    topic.append(s[:-1])\n"
   ]
  },
  {
   "cell_type": "code",
   "execution_count": 18,
   "id": "2919fdc5",
   "metadata": {},
   "outputs": [],
   "source": [
    "cols=[\"post_id\",\"topic\"]\n",
    "values=[ids,topic]\n",
    "res={}\n",
    "for i in range(len(cols)):\n",
    "    res[cols[i]]=values[i]\n",
    "res=pd.DataFrame(res)\n",
    "res.to_csv(\"res.csv\")"
   ]
  }
 ],
 "metadata": {
  "kernelspec": {
   "display_name": "Python 3 (ipykernel)",
   "language": "python",
   "name": "python3"
  },
  "language_info": {
   "codemirror_mode": {
    "name": "ipython",
    "version": 3
   },
   "file_extension": ".py",
   "mimetype": "text/x-python",
   "name": "python",
   "nbconvert_exporter": "python",
   "pygments_lexer": "ipython3",
   "version": "3.9.13"
  }
 },
 "nbformat": 4,
 "nbformat_minor": 5
}
