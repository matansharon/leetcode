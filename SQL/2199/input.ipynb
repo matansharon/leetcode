{
 "cells": [
  {
   "cell_type": "code",
   "execution_count": 27,
   "id": "4dfdffa5",
   "metadata": {},
   "outputs": [],
   "source": [
    "import pandas as pd\n",
    "from random import random,randint,choice,shuffle\n",
    "words=set()\n",
    "with open(\"words.txt\",\"r\")as file:\n",
    "    for i in file:\n",
    "        words.add(i.strip())\n",
    "topics_id=[1,2,3,4]\n",
    "word=[\"ball\",\"war\",\"vaccine\",\"food\"]\n",
    "res={}\n",
    "words=list(words)\n",
    "for i in range(4):\n",
    "    words.append(word[i])\n",
    "shuffle(words)\n",
    "\n",
    "for i in range(len(topics_id)):\n",
    "    res[topics_id[i]]=word[i]\n",
    "res=pd.DataFrame(res,index=[1])\n",
    "res.to_csv(\"keyword_table.csv\")"
   ]
  },
  {
   "cell_type": "code",
   "execution_count": 20,
   "id": "f5f852ba",
   "metadata": {},
   "outputs": [],
   "source": [
    "def gen_content(length):\n",
    "    res=\"\"\n",
    "    for i in range(length):\n",
    "        res+=choice(words)+\" \"\n",
    "    res+=\"\\n\"\n",
    "    return res"
   ]
  },
  {
   "cell_type": "code",
   "execution_count": 28,
   "id": "dedc4660",
   "metadata": {},
   "outputs": [],
   "source": [
    "post_id=[]\n",
    "content=[]\n",
    "for i in range(1000):\n",
    "    post_id.append(i)\n",
    "    content.append(gen_content(randint(5,50)))\n",
    "cols=[\"post_id\",\"content\"]\n",
    "values=[post_id,content]\n",
    "res={}\n",
    "for i in range(len(cols)):\n",
    "    res[cols[i]]=values[i]\n",
    "res=pd.DataFrame(res)\n",
    "res.to_csv(\"posts.csv\")"
   ]
  }
 ],
 "metadata": {
  "kernelspec": {
   "display_name": "Python 3 (ipykernel)",
   "language": "python",
   "name": "python3"
  },
  "language_info": {
   "codemirror_mode": {
    "name": "ipython",
    "version": 3
   },
   "file_extension": ".py",
   "mimetype": "text/x-python",
   "name": "python",
   "nbconvert_exporter": "python",
   "pygments_lexer": "ipython3",
   "version": "3.9.13"
  }
 },
 "nbformat": 4,
 "nbformat_minor": 5
}
