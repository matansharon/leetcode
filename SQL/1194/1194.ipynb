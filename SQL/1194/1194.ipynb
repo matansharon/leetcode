{
 "cells": [
  {
   "cell_type": "code",
   "execution_count": 2,
   "id": "12fbd1bf",
   "metadata": {},
   "outputs": [],
   "source": [
    "from random import randint,choice\n",
    "num_of_players=100\n",
    "num_of_groups=5\n",
    "\n",
    "with open(\"players.csv\",\"w\")as file:\n",
    "    for i in range(num_of_players):\n",
    "        file.write(str(i)+\",\"+str(randint(1,num_of_groups))+\"\\n\")\n",
    "with open(\"matches.csv\",\"w\")as file:\n",
    "    for i in range(10000):\n",
    "        file.write(str(i)+\",\"+str(randint(0,num_of_players))+\",\"+\n",
    "                   str(randint(0,num_of_players))+\",\"+\n",
    "                   str(randint(0,5))+\",\"+str(randint(0,5))+\"\\n\")"
   ]
  },
  {
   "cell_type": "code",
   "execution_count": null,
   "id": "da095dec",
   "metadata": {},
   "outputs": [],
   "source": [
    "class Player:\n",
    "    def __init__(self,_id,group):\n",
    "        self.id=_id\n",
    "        self.group=group\n",
    "        self.score=0\n",
    "    def toString()"
   ]
  },
  {
   "cell_type": "code",
   "execution_count": 9,
   "id": "9dea3d7c",
   "metadata": {},
   "outputs": [
    {
     "name": "stdout",
     "output_type": "stream",
     "text": [
      "1 ['0', '9', '18', '21', '28', '31', '42', '50', '54', '61', '68', '75', '82', '88', '94', '95', '96']\n",
      "5 ['1', '5', '13', '14', '19', '29', '39', '43', '44', '47', '51', '52', '59', '62', '64', '65', '66', '69', '70', '79', '89']\n",
      "3 ['2', '3', '11', '16', '20', '23', '24', '27', '30', '40', '56', '57', '60', '67', '71', '73', '81', '93', '97', '98']\n",
      "2 ['4', '6', '7', '8', '12', '15', '17', '22', '26', '32', '33', '34', '36', '37', '45', '46', '55', '58', '63', '74', '76', '77', '78', '80', '83', '84', '86', '87', '90', '92', '99']\n",
      "4 ['10', '25', '35', '38', '41', '48', '49', '53', '72', '85', '91']\n"
     ]
    },
    {
     "data": {
      "text/plain": [
       "[None, None, None, None, None]"
      ]
     },
     "execution_count": 9,
     "metadata": {},
     "output_type": "execute_result"
    }
   ],
   "source": [
    "groups={}\n",
    "with open(\"players.csv\",\"r\")as file:\n",
    "    for i in file:\n",
    "        temp=i[:-1].split(\",\")\n",
    "        p=Player(temp[0],temp[1])\n",
    "        if player.group not in groups:\n",
    "            groups[player.group]=[]\n",
    "        groups[player.group].append(p)\n",
    "        \n",
    "[print(key,value) for key,value in players.items()]           \n",
    "        "
   ]
  }
 ],
 "metadata": {
  "kernelspec": {
   "display_name": "Python 3 (ipykernel)",
   "language": "python",
   "name": "python3"
  },
  "language_info": {
   "codemirror_mode": {
    "name": "ipython",
    "version": 3
   },
   "file_extension": ".py",
   "mimetype": "text/x-python",
   "name": "python",
   "nbconvert_exporter": "python",
   "pygments_lexer": "ipython3",
   "version": "3.9.13"
  }
 },
 "nbformat": 4,
 "nbformat_minor": 5
}
