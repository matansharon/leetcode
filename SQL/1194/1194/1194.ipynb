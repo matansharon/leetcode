{
 "cells": [
  {
   "cell_type": "code",
   "execution_count": 26,
   "id": "4c100538",
   "metadata": {},
   "outputs": [],
   "source": [
    "from random import randint,choice\n",
    "num_of_players=100\n",
    "num_of_groups=5\n",
    "\n",
    "with open(\"players.csv\",\"w\")as file:\n",
    "    for i in range(num_of_players+1):\n",
    "        file.write(str(i)+\",\"+str(randint(1,num_of_groups))+\"\\n\")\n",
    "with open(\"matches.csv\",\"w\")as file:\n",
    "    for i in range(10000):\n",
    "        file.write(str(i)+\",\"+str(randint(0,num_of_players))+\",\"+\n",
    "                   str(randint(0,num_of_players))+\",\"+\n",
    "                   str(randint(0,5))+\",\"+str(randint(0,5))+\"\\n\")"
   ]
  },
  {
   "cell_type": "code",
   "execution_count": 27,
   "id": "173f0b33",
   "metadata": {},
   "outputs": [],
   "source": [
    "class Player:\n",
    "    def __init__(self,_id,group):\n",
    "        self.id=_id\n",
    "        self.group=group\n",
    "        self.score=0\n",
    "    def toString(self):\n",
    "        return str(self.id)+\",\"+str(self.group)+\",\"+str(self.score)"
   ]
  },
  {
   "cell_type": "code",
   "execution_count": 28,
   "id": "5cd38b42",
   "metadata": {},
   "outputs": [],
   "source": [
    "groups={}\n",
    "players={}\n",
    "with open(\"players.csv\",\"r\")as file:\n",
    "    for i in file:\n",
    "        temp=i[:-1].split(\",\")\n",
    "        p=Player(temp[0],temp[1])\n",
    "        if p.group not in groups:\n",
    "            groups[p.group]=[]\n",
    "        groups[p.group].append(p)\n",
    "        if p.id not in players:\n",
    "            players[p.id]=p\n",
    "        \n",
    "# [print (k,v.toString()) for k,v in players.items()]\n",
    "# [print(key,value) for key,value in groups.items()]           \n",
    "        "
   ]
  },
  {
   "cell_type": "code",
   "execution_count": 29,
   "id": "c97ab6d9",
   "metadata": {},
   "outputs": [],
   "source": [
    "with open(\"matches.csv\",\"r\")as file:\n",
    "    for line in file:\n",
    "        row=line[:-1].split(\",\")\n",
    "        try:\n",
    "            players[row[1]].score+=int(row[3])\n",
    "        except :\n",
    "            print(\"error at the first player \"+row[1])\n",
    "            \n",
    "        \n",
    "        try:\n",
    "            players[row[2]].score+=int(row[4])\n",
    "        except:\n",
    "            print(\"error at second player \"+row[2])\n",
    "        "
   ]
  },
  {
   "cell_type": "code",
   "execution_count": 35,
   "id": "b63500cb",
   "metadata": {},
   "outputs": [
    {
     "name": "stdout",
     "output_type": "stream",
     "text": [
      "5 --> 406,427,431,432,432,480,480,482,497,505,512,513,514,516,517,529,551,564,637,\n",
      "----------------------------------------------------------------------------------------------------\n",
      "1 --> 403,403,408,435,446,459,471,473,483,485,485,488,493,500,502,506,510,522,525,530,532,544,567,595,626,\n",
      "----------------------------------------------------------------------------------------------------\n",
      "4 --> 408,433,466,472,479,483,484,505,511,513,518,530,535,547,\n",
      "----------------------------------------------------------------------------------------------------\n",
      "3 --> 398,470,475,475,477,481,490,492,496,502,504,509,518,522,525,527,528,543,544,547,625,\n",
      "----------------------------------------------------------------------------------------------------\n",
      "2 --> 399,413,442,445,446,458,461,473,482,482,486,486,502,503,509,518,535,536,536,541,547,557,\n",
      "----------------------------------------------------------------------------------------------------\n"
     ]
    }
   ],
   "source": [
    "# for g in groups:\n",
    "#     print(g+\" -->\",end=\" \")\n",
    "#     for i in groups[g]:\n",
    "#         print(i.score,end=\",\")\n",
    "#     print()\n",
    "#     print(\"-\"*100)\n",
    "with open(\"res.csv\",\"w\")as file:\n",
    "    for g in groups:\n",
    "        player_id=\n",
    "        \n",
    "        file.write(str(g)+\",\"+str(groups[g][0])+\"\""
   ]
  },
  {
   "cell_type": "code",
   "execution_count": null,
   "id": "24489917",
   "metadata": {},
   "outputs": [],
   "source": []
  }
 ],
 "metadata": {
  "kernelspec": {
   "display_name": "Python 3 (ipykernel)",
   "language": "python",
   "name": "python3"
  },
  "language_info": {
   "codemirror_mode": {
    "name": "ipython",
    "version": 3
   },
   "file_extension": ".py",
   "mimetype": "text/x-python",
   "name": "python",
   "nbconvert_exporter": "python",
   "pygments_lexer": "ipython3",
   "version": "3.9.13"
  }
 },
 "nbformat": 4,
 "nbformat_minor": 5
}
