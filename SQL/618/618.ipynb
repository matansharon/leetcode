{
 "cells": [
  {
   "cell_type": "code",
   "execution_count": 32,
   "id": "fa1ae6c1",
   "metadata": {},
   "outputs": [
    {
     "name": "stdout",
     "output_type": "stream",
     "text": [
      "Australia ['Amos Campbell', 'Caesar Jacobson', 'Connor Maddox', 'Gil Barber', 'Henry Mccray', 'Leroy Wynn']\n",
      "Austria ['Callum Livingston', 'Craig Hughes', 'Ginger Keith', 'Jeanette Hubbard', 'Leo Merritt', 'Martina Hyde', 'Medge Neal', 'Sawyer Lowery', 'Venus Todd']\n",
      "Belgium ['Brooke Castaneda', 'Giacomo Gardner', 'Hamish Lynn', 'Meredith Pickett', 'Minerva Walton']\n",
      "Brazil ['Abbot Woods', 'Aidan Gillespie', 'Chantale Lewis', 'Connor Stewart', 'Herrod Parrish', 'Kenneth Underwood', 'Lareina Mccarty', 'Rudyard Boone', 'Sheila Dudley', 'Sonya Mendez', 'Yeo Deleon']\n",
      "Canada ['Abdul Tanner', 'Benjamin Reynolds', 'Ian Mathis', 'Jillian Peterson', 'Kuame Garrett', 'Lysandra Whitney', 'Melanie Bullock', 'Thomas Hewitt']\n",
      "Chile ['Lacey Rosales', 'Nicholas Keith', 'Signe Farley']\n",
      "China ['Barrett Ortiz', 'Brandon Waters', 'Castor Stephenson', 'Hillary Clemons', 'Isaiah Lewis', 'Ruth Potts', 'Summer Ross', 'Vivian Kramer']\n",
      "Colombia ['Alea Witt', 'Evangeline Long', 'Troy Miller', 'Xandra Thompson', 'Zephr Bradley']\n",
      "Costa Rica ['Joelle Stevens', 'Macon Greene', 'Marcia Jordan', \"Matthew O'connor\", 'Merritt Luna']\n",
      "France ['Chaney Long', 'Roanna Park', 'Stella Mcmillan']\n",
      "Germany ['Abel Payne', 'Alfreda Warner', 'Dexter Harvey', 'Finn Santana', 'Steven Ratliff', 'Tate Blackwell']\n",
      "India ['Cody Cohen', 'Lysandra Stout', 'Randall Tyson', 'Xaviera Little']\n",
      "Indonesia ['Garth Chan', 'Isabelle Bryant', 'Marvin Wells', 'Rogan Haley', 'Sheila French', 'Winifred Andrews']\n",
      "Ireland ['Jasmine Foster', 'Lillian Rivers', \"Steel O'donnell\"]\n",
      "Italy ['Breanna Crawford', 'Gail Bowers', 'Indira Hampton', 'Isabella Phelps', 'Kareem Bauer']\n",
      "Mexico ['Drake Roman', 'Hanae Haynes', 'Imani Sexton', 'Kellie Long', 'Nevada Roth']\n",
      "Netherlands ['Arsenio Mcgowan', 'Belle Yates', 'Damon Reid', 'Fallon Brock', 'Marsden Phillips', 'Rudyard Frazier']\n",
      "New Zealand ['Dexter Hickman', 'Genevieve Collier', 'Kyla Cabrera', 'Orla Kane', 'Yael Howard']\n",
      "Nigeria ['Chanda Stewart', 'Eleanor Dunlap', 'Hamish Turner', 'Hyatt Fields']\n",
      "Norway ['Cody Beasley', 'Donna Cook', 'Shaeleigh Sheppard', 'Victor Jacobs', 'Xander Ochoa']\n",
      "Pakistan ['Amber Gill', 'Destiny Daugherty', 'Josephine Stevens', 'Mari Watts', 'Ray Schmidt', 'Stewart Roberson', 'Zelenia Santiago']\n",
      "Peru ['Derek Shaffer', 'Eric Morgan', 'Olga Hatfield', 'Willow Patel', 'Yoshi Frank']\n",
      "Philippines ['Alfonso Sharpe', 'Calvin Swanson', 'Eve Sellers', 'Inga Holman', 'Jerry Atkins']\n",
      "Poland ['Cairo Allison', 'Daquan Tillman', 'Keely Landry', 'Sebastian Conner']\n",
      "Russian Federation ['Boris Buckley', 'Dennis Lindsey', 'Dora Martin', 'Glenna Summers', 'Meghan Bell', 'Rina Montoya', 'Xandra Phelps']\n",
      "Singapore ['Cooper Sanchez', 'Fay Schultz', 'Gregory Grant', 'Hedley Pratt', 'Kibo Gilliam', 'Lydia Love']\n",
      "South Africa ['Candace Fulton', 'Forrest Leblanc', 'Griffin Simon', 'Holmes Powers', 'Ila Best', 'Lucian Pena', 'Sonya Christian']\n",
      "South Korea ['Aidan Diaz', 'Ashely Carey', 'Dahlia Hyde', 'David Noble', 'Elton Mcfarland', 'Flynn Lowe', 'Gil Stark', 'Ira Gibbs', 'Solomon Quinn']\n",
      "Spain ['Blossom Whitfield', 'Clayton Patrick', 'Karly Nelson', 'Leila Humphrey', 'Mason Rhodes', 'Ria Wilder', 'Rooney Dale', 'Tobias Sims', 'Zachery Sellers']\n",
      "Sweden ['Dustin Griffith', 'Irma Gilmore', 'Logan Reilly', 'Nolan Murphy', 'Reece Mccray', 'Ronan Molina', 'Zahir Hendrix']\n",
      "Turkey ['Armand Bowers', 'Chancellor Mccall', 'Pearl Joyce']\n",
      "Ukraine ['Amaya Vance', 'Heidi Chavez', 'Lana Sloan', 'Malachi Johnson', 'Patrick Bruce', 'Susan Pearson', 'Sydney Padilla', 'Timothy Powers']\n",
      "United Kingdom ['Bert Abbott', 'Iris Sullivan', 'Sigourney Gay']\n",
      "United States ['Brielle Drake', 'Kamal Robinson']\n",
      "Vietnam ['Boris Patton', 'Dylan Weber', 'Jonah Thompson', 'Joshua Beasley', 'Lydia Avila', 'Uriel Patton']\n",
      "country ['name']\n"
     ]
    },
    {
     "ename": "TypeError",
     "evalue": "can only concatenate list (not \"str\") to list",
     "output_type": "error",
     "traceback": [
      "\u001b[1;31m---------------------------------------------------------------------------\u001b[0m",
      "\u001b[1;31mTypeError\u001b[0m                                 Traceback (most recent call last)",
      "\u001b[1;32m~\\AppData\\Local\\Temp\\ipykernel_205844\\2101712948.py\u001b[0m in \u001b[0;36m<module>\u001b[1;34m\u001b[0m\n\u001b[0;32m     33\u001b[0m         \u001b[1;32melse\u001b[0m\u001b[1;33m:\u001b[0m\u001b[1;33m\u001b[0m\u001b[1;33m\u001b[0m\u001b[0m\n\u001b[0;32m     34\u001b[0m             \u001b[0mrow\u001b[0m\u001b[1;33m+=\u001b[0m\u001b[1;33m(\u001b[0m\u001b[1;34m\"null,\"\u001b[0m\u001b[1;33m)\u001b[0m\u001b[1;33m\u001b[0m\u001b[1;33m\u001b[0m\u001b[0m\n\u001b[1;32m---> 35\u001b[1;33m     \u001b[0mres\u001b[0m\u001b[1;33m.\u001b[0m\u001b[0mappend\u001b[0m\u001b[1;33m(\u001b[0m\u001b[0mrow\u001b[0m\u001b[1;33m+\u001b[0m\u001b[1;34m\"\\n\"\u001b[0m\u001b[1;33m)\u001b[0m\u001b[1;33m\u001b[0m\u001b[1;33m\u001b[0m\u001b[0m\n\u001b[0m\u001b[0;32m     36\u001b[0m \u001b[0mprint\u001b[0m\u001b[1;33m(\u001b[0m\u001b[1;34m\"-\"\u001b[0m\u001b[1;33m*\u001b[0m\u001b[1;36m100\u001b[0m\u001b[1;33m)\u001b[0m\u001b[1;33m\u001b[0m\u001b[1;33m\u001b[0m\u001b[0m\n\u001b[0;32m     37\u001b[0m \u001b[1;32mwith\u001b[0m \u001b[0mopen\u001b[0m\u001b[1;33m(\u001b[0m\u001b[1;34m\"res.csv\"\u001b[0m\u001b[1;33m,\u001b[0m\u001b[1;34m\"w\"\u001b[0m\u001b[1;33m)\u001b[0m\u001b[1;32mas\u001b[0m \u001b[0mfile\u001b[0m\u001b[1;33m:\u001b[0m\u001b[1;33m\u001b[0m\u001b[1;33m\u001b[0m\u001b[0m\n",
      "\u001b[1;31mTypeError\u001b[0m: can only concatenate list (not \"str\") to list"
     ]
    }
   ],
   "source": [
    "data=[]\n",
    "countries={}\n",
    "with open(\"data.csv\",\"r\")as file:\n",
    "    for i in file:\n",
    "        \n",
    "        temp=i.split(\",\")\n",
    "        temp[-1]=temp[-1][:-1]\n",
    "        data.append(temp)\n",
    "\n",
    "temp_c=set()\n",
    "for i in data:\n",
    "    temp_c.add(i[1])\n",
    "\n",
    "temp_c=sorted(temp_c)\n",
    "for c in temp_c:\n",
    "    countries[c]=[]\n",
    "\n",
    "for i in data:\n",
    "    countries[i[1]].append(i[0])\n",
    "max_len=0\n",
    "for i in countries:\n",
    "    countries[i].sort()\n",
    "    if len(countries[i])>max_len:\n",
    "        max_len=len(countries[i])\n",
    "res=[]\n",
    "for i in countries:\n",
    "    print(i,countries[i])\n",
    "for i in range(max_len):\n",
    "    row=[]\n",
    "    for j in countries:\n",
    "        if i<(len(countries[j])):\n",
    "            row+=(str(countries[j][i])+\",\")\n",
    "        else:\n",
    "            row+=(\"null,\")\n",
    "    res.append(row+\"\\n\")\n",
    "print(\"-\"*100)\n",
    "with open(\"res.csv\",\"w\")as file:\n",
    "    \n",
    "    for row in res:\n",
    "        print(row)\n",
    "        file.write(row)"
   ]
  }
 ],
 "metadata": {
  "kernelspec": {
   "display_name": "Python 3 (ipykernel)",
   "language": "python",
   "name": "python3"
  },
  "language_info": {
   "codemirror_mode": {
    "name": "ipython",
    "version": 3
   },
   "file_extension": ".py",
   "mimetype": "text/x-python",
   "name": "python",
   "nbconvert_exporter": "python",
   "pygments_lexer": "ipython3",
   "version": "3.9.13"
  }
 },
 "nbformat": 4,
 "nbformat_minor": 5
}
