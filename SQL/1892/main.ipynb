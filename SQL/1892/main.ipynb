{
 "cells": [
  {
   "cell_type": "code",
   "execution_count": null,
   "id": "ef656821",
   "metadata": {},
   "outputs": [],
   "source": [
    "import pandas as pd"
   ]
  },
  {
   "cell_type": "code",
   "execution_count": null,
   "id": "5b391ee0",
   "metadata": {},
   "outputs": [],
   "source": [
    "class Friend:\n",
    "    def __init__(self,_id):\n",
    "        self.id=_id\n",
    "        self.my_friends=set()\n",
    "        self.my_likes=set()\n",
    "        self.friends_likes=set()\n",
    "    def add_to_my_friends(self,friend_id):\n",
    "        self.my_friends.add(friend_id)\n",
    "    def add_to_my_likes(self,page_id):\n",
    "        self.my_likes.add(page_id)\n",
    "    def add_to_my_friends_likes(self,page_id):\n",
    "        self.friends_likes.add(page_id)\n",
    "    def combine_my_likes_and_friend_likes(self,list_of_likes):\n",
    "        temp=list(self.friends_likes)+list_of_likes\n",
    "        self.friends_likes=set(temp)\n",
    "    def recomended_pages(self):\n",
    "        temp=list(self.friends_likes)\n",
    "        for i in self.my_likes:\n",
    "            if i in temp:\n",
    "                temp.remove(i)\n",
    "        return temp"
   ]
  },
  {
   "cell_type": "code",
   "execution_count": null,
   "id": "0eb391b9",
   "metadata": {},
   "outputs": [],
   "source": [
    "frindship_table=pd.read_csv(\"Freindship table.csv\")\n",
    "\n",
    "friends={}\n",
    "for i in range(len(frindship_table)):\n",
    "    row=frindship_table.iloc[i]\n",
    "    if row.user1_id not in friends:\n",
    "        f=Friend(row.user1_id)\n",
    "        friends[f.id]=f\n",
    "        f.add_to_my_friends(row.user2_id)\n",
    "    else:\n",
    "        f=friends[row.user1_id]\n",
    "        f.add_to_my_friends(row.user2_id)\n"
   ]
  },
  {
   "cell_type": "code",
   "execution_count": null,
   "id": "c05eee05",
   "metadata": {},
   "outputs": [],
   "source": [
    "likes=pd.read_csv(\"Likes table.csv\")\n",
    "cnt=0\n",
    "for i in range(len(likes)):\n",
    "    row=likes.iloc[i]\n",
    "    try:\n",
    "        friends[row.user_id].add_to_my_likes(row.page_id)\n",
    "    except:\n",
    "\n",
    "        cnt+=1\n",
    "print(\"number of errors: \"+str(cnt))\n"
   ]
  },
  {
   "cell_type": "code",
   "execution_count": null,
   "id": "3ef601a6",
   "metadata": {},
   "outputs": [],
   "source": [
    "\n",
    "for i in friends:\n",
    "    curr = friends[i]\n",
    "    for j in curr.my_friends:\n",
    "        try:\n",
    "            curr_friend=list(friends[j].my_likes)\n",
    "            curr.combine_my_likes_and_friend_likes(curr_friend)\n",
    "        except:\n",
    "            continue\n",
    "res={}\n",
    "user_id=[]\n",
    "page_id=[]\n",
    "cols=[\"user_id\",\"page_id\"]\n",
    "values=[user_id,page_id]\n",
    "for i in friends:\n",
    "    for j in friends[i].recomended_pages():\n",
    "        user_id.append(i)\n",
    "        page_id.append(j)\n",
    "for i in range(len(cols)):\n",
    "    res[cols[i]]=values[i]\n",
    "res=pd.DataFrame(res)\n",
    "res.to_csv(\"res.csv\")\n",
    "        "
   ]
  }
 ],
 "metadata": {
  "kernelspec": {
   "display_name": "Python 3 (ipykernel)",
   "language": "python",
   "name": "python3"
  },
  "language_info": {
   "codemirror_mode": {
    "name": "ipython",
    "version": 3
   },
   "file_extension": ".py",
   "mimetype": "text/x-python",
   "name": "python",
   "nbconvert_exporter": "python",
   "pygments_lexer": "ipython3",
   "version": "3.9.13"
  }
 },
 "nbformat": 4,
 "nbformat_minor": 5
}
