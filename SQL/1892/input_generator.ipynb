{
 "cells": [
  {
   "cell_type": "code",
   "execution_count": 17,
   "id": "ccf4b1aa",
   "metadata": {},
   "outputs": [],
   "source": [
    "from random import randint,choice,random\n",
    "from datetime import datetime, timedelta\n",
    "import pandas as pd\n",
    "\n",
    "def gen_datetime(min_year=1900, max_year=datetime.now().year):\n",
    "    \n",
    "    start = datetime(min_year, 1, 1, 0, 0, 0)\n",
    "    years = max_year - min_year + 1\n",
    "    end = start + timedelta(days=365 * years)\n",
    "    return start + (end - start) * random()\n",
    "def convert_str_to_datetime(s):\n",
    "    temp=s\n",
    "    s1=[]\n",
    "    if s[-1]==\"\\n\":\n",
    "        temp=s[:-1]\n",
    "    temp=temp.split(\"-\")\n",
    "    try:\n",
    "        return datetime(temp[0],temp[1],temp[2])\n",
    "    except:\n",
    "        return None\n",
    "    "
   ]
  },
  {
   "cell_type": "code",
   "execution_count": 23,
   "id": "6eac2aa0",
   "metadata": {},
   "outputs": [],
   "source": [
    "num_of_friends=100\n",
    "num_of_pages=100\n",
    "user1=[]\n",
    "user2=[]\n",
    "cols=[\"user1_id\",\"user2_id\"]\n",
    "values=[user1,user2]\n",
    "res={}\n",
    "for i in range(500):\n",
    "    a=randint(1,num_of_friends)\n",
    "    b=randint(1,num_of_friends)\n",
    "    if a!=b:\n",
    "        user1.append(a)\n",
    "        user2.append(b)\n",
    "for i in range(len(cols)):\n",
    "    res[cols[i]]=values[i]\n",
    "res=pd.DataFrame(res)\n",
    "res.index.name=\"index\"\n",
    "res.to_csv(\"Freindship table.csv\")"
   ]
  },
  {
   "cell_type": "code",
   "execution_count": 21,
   "id": "ae6f048f",
   "metadata": {},
   "outputs": [],
   "source": [
    "user_id=[]\n",
    "page_like=[]\n",
    "cols=[\"user_id\",\"page_id\"]\n",
    "values=[user_id,page_like]\n",
    "for i in range(100):\n",
    "    user_id.append(randint(1,num_of_friends))\n",
    "    page_like.append(randint(1,num_of_pages))\n",
    "res2={}\n",
    "for i in range(len(cols)):\n",
    "    res2[cols[i]]=values[i]\n",
    "res2=pd.DataFrame(res2)\n",
    "res2.index.name=\"index\"\n",
    "res2.to_csv(\"Likes table.csv\")"
   ]
  }
 ],
 "metadata": {
  "kernelspec": {
   "display_name": "Python 3 (ipykernel)",
   "language": "python",
   "name": "python3"
  },
  "language_info": {
   "codemirror_mode": {
    "name": "ipython",
    "version": 3
   },
   "file_extension": ".py",
   "mimetype": "text/x-python",
   "name": "python",
   "nbconvert_exporter": "python",
   "pygments_lexer": "ipython3",
   "version": "3.9.13"
  }
 },
 "nbformat": 4,
 "nbformat_minor": 5
}
