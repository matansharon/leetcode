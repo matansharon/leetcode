{
 "cells": [
  {
   "cell_type": "code",
   "execution_count": 17,
   "id": "f1245d09",
   "metadata": {},
   "outputs": [],
   "source": [
    "def gen_name():\n",
    "    ab=\"abcdefghijklmnopqrstuvwxyz\"\n",
    "    length=randint(1,10)\n",
    "    res=\"\"\n",
    "    for i in range(length):\n",
    "        res+=choice(ab)\n",
    "    return res"
   ]
  },
  {
   "cell_type": "code",
   "execution_count": 33,
   "id": "ff10beed",
   "metadata": {},
   "outputs": [],
   "source": [
    "class Employee:\n",
    "    def __init__(self,_id,name,salary,dep):\n",
    "        self.id=_id\n",
    "        self.name=name\n",
    "        self.salary=salary\n",
    "        self.department=dep\n",
    "    def toString(self):\n",
    "        return str(self.id)+\"-\"+str(self.name)+\"-\"+str(self.salary)+\"-\"+str(self.department)"
   ]
  },
  {
   "cell_type": "code",
   "execution_count": 64,
   "id": "11fd7758",
   "metadata": {},
   "outputs": [],
   "source": [
    "\n",
    "from random import randint,choice\n",
    "emp_coloumns=[\"id-int\",\"name-varchar\",\"salary-int\",\"department_id-int\"]\n",
    "\n",
    "saleries=range(30000,150000,1000)\n",
    "employees=[]\n",
    "departments_table={1:\"it\",2:\"sales\",3:\"r&d\",4:\"HR\",5:\"maintenance\",6:\"production\"}\n",
    "data=[]\n",
    "employees_table=[]\n",
    "names=set()\n",
    "for i in range(100):\n",
    "    name=gen_name()    \n",
    "    temp=[i,name,choice(saleries),randint(1,len(departments_dict))]\n",
    "    employees_table.append(temp)\n",
    "    temp_emp=Employee(temp[0],temp[1],temp[2],temp[3])\n",
    "    data.append(temp_emp)\n"
   ]
  },
  {
   "cell_type": "code",
   "execution_count": 77,
   "id": "a5de0a4d",
   "metadata": {},
   "outputs": [],
   "source": [
    "global_dict={}\n",
    "for d in departments_table:\n",
    "    global_dict[d]=[]\n",
    "for emp in data:\n",
    "    global_dict[emp.department].append(emp)\n",
    "res=[]\n",
    "for row in global_dict:\n",
    "    global_dict[row].sort(key=lambda x : x.salary,reverse=True)\n",
    "for row in global_dict:\n",
    "    l=global_dict[row]\n",
    "    res.append(l[0])\n",
    "    res.append(l[1])\n",
    "    res.append(l[2])\n",
    "\n"
   ]
  },
  {
   "cell_type": "code",
   "execution_count": 80,
   "id": "caab20c0",
   "metadata": {},
   "outputs": [
    {
     "name": "stdout",
     "output_type": "stream",
     "text": [
      "pfqzoq it 147000\n",
      "od it 143000\n",
      "ioygylsp it 143000\n",
      "pppbhtsuj sales 147000\n",
      "frzas sales 142000\n",
      "pybupzxfxq sales 110000\n",
      "sewd r&d 138000\n",
      "fxzvtn r&d 126000\n",
      "ewhhhf r&d 122000\n",
      "ftravcgdjp HR 146000\n",
      "jhm HR 144000\n",
      "a HR 132000\n",
      "tuy maintenance 149000\n",
      "w maintenance 147000\n",
      "hucrpianip maintenance 136000\n",
      "vmb production 141000\n",
      "qzzzcdzt production 137000\n",
      "jdsfgrtcyl production 136000\n"
     ]
    }
   ],
   "source": [
    "for i in res:\n",
    "    print(i.name,departments_table[i.department],i.salary)\n",
    "    "
   ]
  }
 ],
 "metadata": {
  "kernelspec": {
   "display_name": "Python 3 (ipykernel)",
   "language": "python",
   "name": "python3"
  },
  "language_info": {
   "codemirror_mode": {
    "name": "ipython",
    "version": 3
   },
   "file_extension": ".py",
   "mimetype": "text/x-python",
   "name": "python",
   "nbconvert_exporter": "python",
   "pygments_lexer": "ipython3",
   "version": "3.9.12"
  }
 },
 "nbformat": 4,
 "nbformat_minor": 5
}
