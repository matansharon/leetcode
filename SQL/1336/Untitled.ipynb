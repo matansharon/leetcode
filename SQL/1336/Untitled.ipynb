{
 "cells": [
  {
   "cell_type": "code",
   "execution_count": 58,
   "id": "e253b981",
   "metadata": {},
   "outputs": [],
   "source": [
    "class User:\n",
    "    def __init__(self,_id):\n",
    "        self.id=_id\n",
    "        self.visits={}\n",
    "    def add_visit(self,date):\n",
    "        if date not in self.visits:\n",
    "            self.visits[date]=0\n",
    "    def add_transactoin(self,date):\n",
    "        if date in self.visits:\n",
    "            self.visits[date]+=1\n",
    "        else:\n",
    "            self.visits[date]=1\n",
    "        \n",
    "        \n",
    "        "
   ]
  },
  {
   "cell_type": "code",
   "execution_count": 59,
   "id": "4ecf6785",
   "metadata": {},
   "outputs": [],
   "source": [
    "from random import randint\n",
    "def gen_date():\n",
    "    return str(2019)+\"-\"+str(randint(1,12))+\"-\"+str(randint(1,31))"
   ]
  },
  {
   "cell_type": "code",
   "execution_count": 60,
   "id": "fe7a4ad1",
   "metadata": {},
   "outputs": [],
   "source": [
    "with open(\"visits.csv\",\"w\")as file:\n",
    "    for i in range(100):\n",
    "        file.write(str(randint(1,10))+\",\"+gen_date()+\"\\n\")\n"
   ]
  },
  {
   "cell_type": "code",
   "execution_count": 61,
   "id": "fbcad47a",
   "metadata": {},
   "outputs": [],
   "source": [
    "with open(\"transactions.csv\",\"w\")as  file:\n",
    "    for i in range(1000):\n",
    "        file.write(str(randint(1,10))+\",\"+gen_date()+\",\"+str(randint(1,1000))+\"\\n\")"
   ]
  },
  {
   "cell_type": "code",
   "execution_count": 62,
   "id": "ada7d364",
   "metadata": {},
   "outputs": [],
   "source": [
    "users={}\n",
    "visits={}\n",
    "with open(\"visits.csv\",\"r\")as file:\n",
    "    for i in file:\n",
    "        temp=i[:-1].split(\",\")\n",
    "        u=User(temp[0])\n",
    "        if u.id not in users:\n",
    "            users[u.id]=u\n",
    "        visits[temp[1]]=0\n",
    "        users[u.id].add_visit(temp[1])\n"
   ]
  },
  {
   "cell_type": "code",
   "execution_count": 63,
   "id": "415b54fe",
   "metadata": {},
   "outputs": [],
   "source": [
    "trans=[]\n",
    "with open(\"transactions.csv\",\"r\")as file:\n",
    "    for i in file:\n",
    "        temp=i[:-1].split(\",\")\n",
    "        trans.append(temp)"
   ]
  },
  {
   "cell_type": "code",
   "execution_count": 64,
   "id": "9f5b9d3d",
   "metadata": {},
   "outputs": [],
   "source": [
    "for t in trans:\n",
    "    if t[0] in users:\n",
    "        users[t[0]].add_transactoin(t[1])"
   ]
  },
  {
   "cell_type": "code",
   "execution_count": 65,
   "id": "0f34fbdb",
   "metadata": {},
   "outputs": [],
   "source": [
    "for i in users:\n",
    "    user=users[i]\n",
    "    for date in user.visits:\n",
    "        if user.visits[date]>0:\n",
    "            try:\n",
    "                visits[date]+=user.visits[date]\n",
    "            except:\n",
    "                continue\n"
   ]
  },
  {
   "cell_type": "code",
   "execution_count": null,
   "id": "9c10cba9",
   "metadata": {},
   "outputs": [],
   "source": [
    "for date in visits:\n",
    "    print(date,visits[date])"
   ]
  },
  {
   "cell_type": "code",
   "execution_count": 70,
   "id": "9cb7abbb",
   "metadata": {},
   "outputs": [],
   "source": [
    "with open(\"res.csv\",\"w\")as file:\n",
    "    for date in visits:\n",
    "        file.write(str(date)+\",\"+str(visits[date])+\"\\n\")"
   ]
  }
 ],
 "metadata": {
  "kernelspec": {
   "display_name": "Python 3 (ipykernel)",
   "language": "python",
   "name": "python3"
  },
  "language_info": {
   "codemirror_mode": {
    "name": "ipython",
    "version": 3
   },
   "file_extension": ".py",
   "mimetype": "text/x-python",
   "name": "python",
   "nbconvert_exporter": "python",
   "pygments_lexer": "ipython3",
   "version": "3.9.13"
  }
 },
 "nbformat": 4,
 "nbformat_minor": 5
}
