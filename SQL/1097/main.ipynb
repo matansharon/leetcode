{
 "cells": [
  {
   "cell_type": "code",
   "execution_count": 1,
   "id": "bac71756",
   "metadata": {},
   "outputs": [],
   "source": [
    "from time import time\n",
    "t1=time()\n",
    "from random import randint,choice,random\n",
    "from datetime import datetime, timedelta\n",
    "\n",
    "def gen_datetime(min_year=1900, max_year=datetime.now().year):\n",
    "    \n",
    "    start = datetime(min_year, 1, 1, 0, 0, 0)\n",
    "    years = max_year - min_year + 1\n",
    "    end = start + timedelta(days=365 * years)\n",
    "    return start + (end - start) * random()\n",
    "def convert_str_to_datetime(s):\n",
    "    temp=s\n",
    "    s1=[]\n",
    "    if s[-1]==\"\\n\":\n",
    "        temp=s[:-1]\n",
    "    temp=temp.split(\"-\")\n",
    "    try:\n",
    "        return datetime(temp[0],temp[1],temp[2])\n",
    "    except:\n",
    "        return None"
   ]
  },
  {
   "cell_type": "code",
   "execution_count": 43,
   "id": "2020d058",
   "metadata": {},
   "outputs": [
    {
     "name": "stdout",
     "output_type": "stream",
     "text": [
      "CPU times: user 31.1 ms, sys: 2.64 ms, total: 33.8 ms\n",
      "Wall time: 32 ms\n"
     ]
    }
   ],
   "source": [
    "\n",
    "import pandas as pd\n",
    "num_of_players=20\n",
    "device_id=10\n",
    "player_id=[]\n",
    "device_id=[]\n",
    "event_dates=[]\n",
    "games_played=[]\n",
    "for i in range(1000):\n",
    "    player_id.append(randint(1,1000))\n",
    "    device_id.append(randint(1,10))\n",
    "    event_dates.append(gen_datetime(2015,2022).strftime(\"%Y-%m-%d\"))\n",
    "    games_played.append(randint(1,5))\n",
    "keys=[\"player_id\",\"device_id\",\"event_dates\",\"games_played\"]\n",
    "values=[player_id,device_id,event_dates,games_played]\n",
    "out={}\n",
    "for i in range(len(keys)):\n",
    "    out[keys[i]]=values[i]\n",
    "out=pd.DataFrame(out)\n",
    "out.to_csv(\"Activity_table.csv\")"
   ]
  },
  {
   "cell_type": "code",
   "execution_count": 51,
   "id": "6c14a836",
   "metadata": {},
   "outputs": [
    {
     "name": "stdout",
     "output_type": "stream",
     "text": [
      "1000\n"
     ]
    },
    {
     "ename": "NameError",
     "evalue": "name 'time' is not defined",
     "output_type": "error",
     "traceback": [
      "\u001b[0;31m---------------------------------------------------------------------------\u001b[0m",
      "\u001b[0;31mNameError\u001b[0m                                 Traceback (most recent call last)",
      "Cell \u001b[0;32mIn [51], line 36\u001b[0m\n\u001b[1;32m     34\u001b[0m res\u001b[38;5;241m=\u001b[39mpd\u001b[38;5;241m.\u001b[39mDataFrame(res)\n\u001b[1;32m     35\u001b[0m res\u001b[38;5;241m.\u001b[39mto_csv(\u001b[38;5;124m\"\u001b[39m\u001b[38;5;124mres.csv\u001b[39m\u001b[38;5;124m\"\u001b[39m)\n\u001b[0;32m---> 36\u001b[0m t2\u001b[38;5;241m=\u001b[39m\u001b[43mtime\u001b[49m()\n\u001b[1;32m     37\u001b[0m \u001b[38;5;28mprint\u001b[39m(\u001b[38;5;124m\"\u001b[39m\u001b[38;5;124mruntime of all the cells is: \u001b[39m\u001b[38;5;124m\"\u001b[39m\u001b[38;5;241m+\u001b[39mt2\u001b[38;5;241m-\u001b[39mt1)\n",
      "\u001b[0;31mNameError\u001b[0m: name 'time' is not defined"
     ]
    }
   ],
   "source": [
    "\n",
    "import pandas as pd\n",
    "data=pd.read_csv(\"Activity_table.csv\")\n",
    "\n",
    "index=data.iloc[0].index\n",
    "print(len(data))\n",
    "players={}\n",
    "for i in range(len(data)):\n",
    "    row=data.iloc[i]\n",
    "    if row.player_id not in players:\n",
    "        players[row.player_id]=[row.event_dates]\n",
    "    else:\n",
    "        players[row.player_id].append(row.event_dates)\n",
    "first_days={}\n",
    "for p in players:\n",
    "    players[p].sort()\n",
    "#     print(players[p])\n",
    "    if players[p][0] not in first_days:\n",
    "        first_days[players[p][0]]={\"all\":0,\"come_back_player\":0}\n",
    "    first_days[players[p][0]][\"all\"]+=1\n",
    "    if len(players[p])>1:\n",
    "        first_days[players[p][0]][\"come_back_player\"]+=1\n",
    "dates=[]\n",
    "all_installs=[]\n",
    "ratio=[]\n",
    "cols=[\"install_dt\",\"installs\",\"Day1_rention\"]\n",
    "values=[dates,all_installs,ratio]\n",
    "for i in first_days:\n",
    "    dates.append(i)\n",
    "    all_installs.append(first_days[i][\"all\"])\n",
    "    ratio.append(first_days[i][\"come_back_player\"]/first_days[i][\"all\"])\n",
    "res={}\n",
    "for i in range(len(cols)):\n",
    "    res[cols[i]]=values[i]\n",
    "res=pd.DataFrame(res)\n",
    "res.to_csv(\"res.csv\")\n",
    "t2=time()\n",
    "print(\"runtime of all the cells is: \"+t2-t1)"
   ]
  }
 ],
 "metadata": {
  "kernelspec": {
   "display_name": "Python 3 (ipykernel)",
   "language": "python",
   "name": "python3"
  },
  "language_info": {
   "codemirror_mode": {
    "name": "ipython",
    "version": 3
   },
   "file_extension": ".py",
   "mimetype": "text/x-python",
   "name": "python",
   "nbconvert_exporter": "python",
   "pygments_lexer": "ipython3",
   "version": "3.9.12"
  }
 },
 "nbformat": 4,
 "nbformat_minor": 5
}
