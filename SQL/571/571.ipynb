{
 "cells": [
  {
   "cell_type": "code",
   "execution_count": 73,
   "id": "bf4c19ba",
   "metadata": {},
   "outputs": [],
   "source": [
    "from time import time\n",
    "\n"
   ]
  },
  {
   "cell_type": "code",
   "execution_count": 74,
   "id": "138edaf4",
   "metadata": {},
   "outputs": [],
   "source": [
    "\n",
    "from random import randint,choice\n",
    "def gen_csv_file(num_of_rows):\n",
    "    cols=[\"num-int\",\"freq-int\"]\n",
    "    \n",
    "    res=[]\n",
    "    for i in range(num_of_rows):\n",
    "        \n",
    "        res.append(str(i)+\",\"+str(randint(1,20)))\n",
    "    with open(\"input.csv\",\"w\")as file:\n",
    "        for row in res:\n",
    "            file.write(row)\n",
    "            file.write('\\n')"
   ]
  },
  {
   "cell_type": "code",
   "execution_count": 75,
   "id": "c8bf2311",
   "metadata": {},
   "outputs": [],
   "source": [
    "gen_csv_file(10000000)"
   ]
  },
  {
   "cell_type": "code",
   "execution_count": 76,
   "id": "32b0d2ac",
   "metadata": {},
   "outputs": [],
   "source": [
    "_input=[]\n",
    "with open(r'input.csv','r')as file:\n",
    "    for row in file:\n",
    "        temp=row.split(',')\n",
    "        temp[-1]=temp[-1][:-1]\n",
    "        _input.append(temp)\n"
   ]
  },
  {
   "cell_type": "code",
   "execution_count": 77,
   "id": "4d5a3faf",
   "metadata": {},
   "outputs": [
    {
     "name": "stdout",
     "output_type": "stream",
     "text": [
      "[1, 1, 1, 1, 1]\n"
     ]
    }
   ],
   "source": [
    "print([1]*5)"
   ]
  },
  {
   "cell_type": "code",
   "execution_count": 85,
   "id": "21748f0f",
   "metadata": {},
   "outputs": [
    {
     "name": "stdout",
     "output_type": "stream",
     "text": [
      "5.544009208679199\n",
      "False\n",
      "5001166\n"
     ]
    }
   ],
   "source": [
    "#approch 1-use a lot of space memory but its is very easy to code\n",
    "t1=time()\n",
    "_list=[]\n",
    "for row in _input:\n",
    "    temp=[row[0]]*int(row[1])\n",
    "    _list.extend(temp)\n",
    "\n",
    "t2=time()\n",
    "first_runtime=t2-t1\n",
    "print(first_runtime)\n",
    "\n",
    "med=int(len(_list)/2)\n",
    "print(_list[med])"
   ]
  },
  {
   "cell_type": "code",
   "execution_count": 86,
   "id": "1338e266",
   "metadata": {},
   "outputs": [
    {
     "name": "stdout",
     "output_type": "stream",
     "text": [
      "5001166\n",
      "5.562739133834839\n"
     ]
    }
   ],
   "source": [
    "#approch 2- backtracking on the freq column\n",
    "t1=time()\n",
    "length=len(_input)\n",
    "num_of_items=0\n",
    "mid=0\n",
    "res=0\n",
    "for row in _input:\n",
    "    num_of_items+=int(row[1])\n",
    "for row in _input:\n",
    "    prev=mid\n",
    "    mid+=int(row[1])\n",
    "    if mid>int(num_of_items/2) and prev<=int(num_of_items):\n",
    "        res=row[0]\n",
    "        break\n",
    "    elif mid==int(num_of_items/2):\n",
    "        res=row[0]\n",
    "    if mid>int(num_of_items/2):\n",
    "        break\n",
    "print (res)\n",
    "        \n",
    "\n",
    "    \n",
    "\n",
    "t2=time()\n",
    "second_runtime=t2-t1\n",
    "print(second_runtime)"
   ]
  },
  {
   "cell_type": "code",
   "execution_count": 89,
   "id": "61e23f5a",
   "metadata": {},
   "outputs": [
    {
     "name": "stdout",
     "output_type": "stream",
     "text": [
      "the ratio between the 2 approches is: 0.9966329671938566\n",
      "more of the same\n"
     ]
    }
   ],
   "source": [
    "print(\"the ratio between the 2 approches is: \"+str(first_runtime/second_runtime))\n",
    "# print(\"more of the same\")"
   ]
  }
 ],
 "metadata": {
  "kernelspec": {
   "display_name": "Python 3 (ipykernel)",
   "language": "python",
   "name": "python3"
  },
  "language_info": {
   "codemirror_mode": {
    "name": "ipython",
    "version": 3
   },
   "file_extension": ".py",
   "mimetype": "text/x-python",
   "name": "python",
   "nbconvert_exporter": "python",
   "pygments_lexer": "ipython3",
   "version": "3.9.13"
  }
 },
 "nbformat": 4,
 "nbformat_minor": 5
}
