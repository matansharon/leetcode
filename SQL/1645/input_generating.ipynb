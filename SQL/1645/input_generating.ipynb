{
 "cells": [
  {
   "cell_type": "code",
   "execution_count": 48,
   "id": "c7b41f66",
   "metadata": {},
   "outputs": [],
   "source": [
    "from random import randint,choice,random\n",
    "from datetime import datetime, timedelta\n",
    "import pandas as pd\n",
    "def gen_datetime(min_year=1900, max_year=datetime.now().year):\n",
    "    \n",
    "    start = datetime(min_year, 1, 1, 0, 0, 0)\n",
    "    years = max_year - min_year + 1\n",
    "    end = start + timedelta(days=365 * years)\n",
    "    return start + (end - start) * random()\n",
    "def convert_str_to_datetime(s):\n",
    "    \n",
    "    \n",
    "    \n",
    "    temp=s.split(\"-\")\n",
    "    for i in range(len(temp)):\n",
    "        temp[i]=int(temp[i])\n",
    "    return datetime(temp[0],temp[1],temp[2])"
   ]
  },
  {
   "cell_type": "code",
   "execution_count": 40,
   "id": "94f4fa7e",
   "metadata": {},
   "outputs": [],
   "source": [
    "ids=[]\n",
    "dates=[]\n",
    "cols=[\"driver_id\",\"join_date\"]\n",
    "for i in range(1,51):\n",
    "    ids.append(i)\n",
    "    dates.append(gen_datetime(2022,2022).strftime(\"%Y-%m-%d\"))\n",
    "out={}\n",
    "values=[ids,dates]\n",
    "for i in range(len(cols)):\n",
    "    out[cols[i]]=values[i]\n",
    "out=pd.DataFrame(out)\n",
    "out.index.name=\"index\"\n",
    "out=out.sort_values(\"join_date\")\n",
    "out.to_csv(\"drivers.csv\")\n"
   ]
  },
  {
   "cell_type": "code",
   "execution_count": null,
   "id": "795722db",
   "metadata": {},
   "outputs": [],
   "source": [
    "# for i in range(len(out)):\n",
    "#     row=out.iloc[i]\n",
    "#     print(row.driver_id,row.join_date)"
   ]
  },
  {
   "cell_type": "code",
   "execution_count": 63,
   "id": "5cbdf8a3",
   "metadata": {},
   "outputs": [
    {
     "name": "stdout",
     "output_type": "stream",
     "text": [
      "[7, 14, 19, 2]\n",
      "[11, 9, 36, 48, 43, 21, 7, 14, 19, 2]\n",
      "[29, 49, 42, 11, 9, 36, 48, 43, 21, 7, 14, 19, 2]\n",
      "[6, 31, 29, 49, 42, 11, 9, 36, 48, 43, 21, 7, 14, 19, 2]\n",
      "[35, 15, 28, 38, 30, 41, 5, 6, 31, 29, 49, 42, 11, 9, 36, 48, 43, 21, 7, 14, 19, 2]\n",
      "[23, 40, 17, 12, 18, 25, 35, 15, 28, 38, 30, 41, 5, 6, 31, 29, 49, 42, 11, 9, 36, 48, 43, 21, 7, 14, 19, 2]\n",
      "[26, 20, 27, 10, 23, 40, 17, 12, 18, 25, 35, 15, 28, 38, 30, 41, 5, 6, 31, 29, 49, 42, 11, 9, 36, 48, 43, 21, 7, 14, 19, 2]\n",
      "[22, 26, 20, 27, 10, 23, 40, 17, 12, 18, 25, 35, 15, 28, 38, 30, 41, 5, 6, 31, 29, 49, 42, 11, 9, 36, 48, 43, 21, 7, 14, 19, 2]\n",
      "[47, 39, 1, 22, 26, 20, 27, 10, 23, 40, 17, 12, 18, 25, 35, 15, 28, 38, 30, 41, 5, 6, 31, 29, 49, 42, 11, 9, 36, 48, 43, 21, 7, 14, 19, 2]\n",
      "[33, 4, 50, 16, 45, 47, 39, 1, 22, 26, 20, 27, 10, 23, 40, 17, 12, 18, 25, 35, 15, 28, 38, 30, 41, 5, 6, 31, 29, 49, 42, 11, 9, 36, 48, 43, 21, 7, 14, 19, 2]\n",
      "[37, 44, 33, 4, 50, 16, 45, 47, 39, 1, 22, 26, 20, 27, 10, 23, 40, 17, 12, 18, 25, 35, 15, 28, 38, 30, 41, 5, 6, 31, 29, 49, 42, 11, 9, 36, 48, 43, 21, 7, 14, 19, 2]\n",
      "[3, 24, 8, 13, 32, 46, 34, 37, 44, 33, 4, 50, 16, 45, 47, 39, 1, 22, 26, 20, 27, 10, 23, 40, 17, 12, 18, 25, 35, 15, 28, 38, 30, 41, 5, 6, 31, 29, 49, 42, 11, 9, 36, 48, 43, 21, 7, 14, 19, 2]\n"
     ]
    }
   ],
   "source": [
    "drivers_by_date={}\n",
    "for i in range(1,13):\n",
    "    drivers_by_date[i]=[]\n",
    "drivers_input=pd.read_csv(\"drivers.csv\")\n",
    "for i in range(len(drivers_input)):\n",
    "    row = drivers_input.iloc[i]\n",
    "    d=convert_str_to_datetime(row.join_date)\n",
    "    if d.month not in drivers_by_date:\n",
    "        drivers_by_date[d.month]=[]\n",
    "    drivers_by_date[d.month].append(row.driver_id)\n",
    "for i in drivers_by_date:\n",
    "\n",
    "    if i>1:\n",
    "        drivers_by_date[i]=drivers_by_date[i]+drivers_by_date[i-1]\n",
    "for i in drivers_by_date:\n",
    "    print(drivers_by_date[i])\n",
    "    "
   ]
  }
 ],
 "metadata": {
  "kernelspec": {
   "display_name": "Python 3 (ipykernel)",
   "language": "python",
   "name": "python3"
  },
  "language_info": {
   "codemirror_mode": {
    "name": "ipython",
    "version": 3
   },
   "file_extension": ".py",
   "mimetype": "text/x-python",
   "name": "python",
   "nbconvert_exporter": "python",
   "pygments_lexer": "ipython3",
   "version": "3.9.13"
  }
 },
 "nbformat": 4,
 "nbformat_minor": 5
}
