{
 "cells": [
  {
   "cell_type": "code",
   "execution_count": 2,
   "id": "ee91c125",
   "metadata": {},
   "outputs": [],
   "source": [
    "from random import randint\n",
    "def gen_date():\n",
    "    return str(randint(2019,2022))+\"-\"+str(randint(1,12))+\"-\"+str(randint(1,31))"
   ]
  },
  {
   "cell_type": "code",
   "execution_count": 3,
   "id": "5cb32eef",
   "metadata": {},
   "outputs": [],
   "source": [
    "class Date:\n",
    "    def __init__(self,year,mounth,day,status):\n",
    "        self.year=year\n",
    "        self.month=mounth\n",
    "        self.day=day\n",
    "        self.date_as_int=self.convert_to_int()\n",
    "        self.status=status\n",
    "        \n",
    "    def toString(self):\n",
    "        return str(self.year)+\"-\"+str(self.month)+\"-\"+str(self.day)\n",
    "    def convert_to_int(self):\n",
    "        temp=self.toString().split(\"-\")\n",
    "        res=\"\"\n",
    "        for i in temp:\n",
    "            res+=i\n",
    "        return int(res)\n",
    "    def compare_to(self,other_date):\n",
    "        if self.convert_to_int()==other_date.convert_to_int():\n",
    "            return 0\n",
    "        elif self.convert_to_int()>other_date.convert_to_int():\n",
    "            return 1\n",
    "        else:\n",
    "            return -1"
   ]
  },
  {
   "cell_type": "code",
   "execution_count": null,
   "id": "10e32a93",
   "metadata": {},
   "outputs": [],
   "source": []
  },
  {
   "cell_type": "code",
   "execution_count": 4,
   "id": "0b420bbf",
   "metadata": {},
   "outputs": [],
   "source": [
    "num_of_rows=500\n",
    "with open(\"failed.csv\",\"w\")as file:\n",
    "    for i in range(num_of_rows):\n",
    "        file.write(gen_date()+\"\\n\")\n",
    "with open(\"success.csv\",\"w\")as file:\n",
    "    for i in range(num_of_rows):\n",
    "        file.write(gen_date()+\"\\n\")"
   ]
  },
  {
   "cell_type": "code",
   "execution_count": 7,
   "id": "79d61566",
   "metadata": {},
   "outputs": [],
   "source": [
    "failes={}\n",
    "success={}\n",
    "all_dates={}\n",
    "with open(\"failed.csv\",\"r\")as file:\n",
    "    for line in file:\n",
    "        row=line[:-1].split(\"-\")\n",
    "        d=Date(row[0],row[1],row[2],\"falied\")\n",
    "        \n",
    "        if d.toString() not in failes:\n",
    "            failes[d.toString()]=d\n",
    "with open(\"success.csv\",\"r\")as file:\n",
    "    for line in file:\n",
    "        row=line[:-1].split(\"-\")\n",
    "        d=Date(row[0],row[1],row[2],\"success\")\n",
    "        \n",
    "        if d.toString() not in success:\n",
    "            success[d.toString()]=d\n",
    "for k,v in failes.items():\n",
    "    if k not in success:\n",
    "        all_dates[k]=v\n",
    "for k,v in success.items():\n",
    "    if k not in failes:\n",
    "        all_dates[k]=v\n",
    "all_dates_list=list(all_dates.values())\n",
    "all_dates_list.sort(key=lambda x:x.date_as_int)\n",
    "\n",
    "\n",
    "res=[]\n",
    "start=all_dates_list[0]\n",
    "prev=start\n",
    "for d in all_dates_list:\n",
    "    if d.status!=prev.status:\n",
    "        res.append(start.status+\",\"+start.toString()+\",\"+prev.toString()+\"\\n\")\n",
    "        start=d\n",
    "    prev=d\n",
    "        \n",
    "    \n",
    "with open(\"res.csv\",\"w\")as file:\n",
    "    for row in res:\n",
    "        \n",
    "        file.write(row)"
   ]
  }
 ],
 "metadata": {
  "kernelspec": {
   "display_name": "Python 3 (ipykernel)",
   "language": "python",
   "name": "python3"
  },
  "language_info": {
   "codemirror_mode": {
    "name": "ipython",
    "version": 3
   },
   "file_extension": ".py",
   "mimetype": "text/x-python",
   "name": "python",
   "nbconvert_exporter": "python",
   "pygments_lexer": "ipython3",
   "version": "3.9.13"
  }
 },
 "nbformat": 4,
 "nbformat_minor": 5
}
