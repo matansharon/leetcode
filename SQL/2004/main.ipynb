{
 "cells": [
  {
   "cell_type": "code",
   "execution_count": 22,
   "id": "c3272571",
   "metadata": {},
   "outputs": [
    {
     "name": "stdout",
     "output_type": "stream",
     "text": [
      "[12486, 14832, 15929, 16363, 17599, 18806, 19472, 19566]\n",
      "[1030, 1047, 1474, 1972, 2167, 2238, 2293, 2395]\n"
     ]
    }
   ],
   "source": [
    "import pandas as pd\n",
    "inpput=pd.read_csv(\"Candidates.csv\")\n",
    "badget=150000\n",
    "\n",
    "seniors=[]\n",
    "juniors=[]\n",
    "for i in range(len(inpput)):\n",
    "    row=inpput.iloc[i]\n",
    "    if row.experience==\"Junior\":\n",
    "        juniors.append(row.salary)\n",
    "    else:\n",
    "        seniors.append(row.salary)\n",
    "seniors.sort()\n",
    "juniors.sort()\n",
    "res_seniors=[]\n",
    "pos=0\n",
    "while badget>0 and pos<len(seniors):\n",
    "    if badget-seniors[pos]>0:\n",
    "        res_seniors.append(seniors[pos])\n",
    "        \n",
    "        \n",
    "        badget-=seniors[pos]\n",
    "        pos+=1\n",
    "    else:\n",
    "        break\n",
    "pos=0\n",
    "res_juniors=[]\n",
    "print(res_seniors)\n",
    "while badget>0 and pos<len(juniors):\n",
    "    if badget-juniors[pos]>0:\n",
    "        res_juniors.append(juniors[pos])\n",
    "        badget-=juniors[pos]\n",
    "        pos+=1\n",
    "    else:\n",
    "        break\n",
    "res={\n",
    "    \"Senior\":len(res_seniors),\n",
    "    \"Junior\":len(res_juniors)\n",
    "}\n",
    "print(res_juniors)\n",
    "res=pd.DataFrame(res,index=[1,2])\n",
    "res.to_csv(\"res.csv\")"
   ]
  }
 ],
 "metadata": {
  "kernelspec": {
   "display_name": "Python 3 (ipykernel)",
   "language": "python",
   "name": "python3"
  },
  "language_info": {
   "codemirror_mode": {
    "name": "ipython",
    "version": 3
   },
   "file_extension": ".py",
   "mimetype": "text/x-python",
   "name": "python",
   "nbconvert_exporter": "python",
   "pygments_lexer": "ipython3",
   "version": "3.9.12"
  }
 },
 "nbformat": 4,
 "nbformat_minor": 5
}
