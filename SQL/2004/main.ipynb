{
 "cells": [
  {
   "cell_type": "code",
   "execution_count": 42,
   "id": "c3272571",
   "metadata": {},
   "outputs": [
    {
     "ename": "TypeError",
     "evalue": "unhashable type: 'list'",
     "output_type": "error",
     "traceback": [
      "\u001b[0;31m---------------------------------------------------------------------------\u001b[0m",
      "\u001b[0;31mTypeError\u001b[0m                                 Traceback (most recent call last)",
      "Cell \u001b[0;32mIn [42], line 45\u001b[0m\n\u001b[1;32m     43\u001b[0m index\u001b[38;5;241m=\u001b[39m\u001b[38;5;28mlist\u001b[39m(\u001b[38;5;28mrange\u001b[39m(\u001b[38;5;28mlen\u001b[39m(res)))\n\u001b[1;32m     44\u001b[0m temp_res\u001b[38;5;241m=\u001b[39m{}\n\u001b[0;32m---> 45\u001b[0m temp_res[index]\u001b[38;5;241m=\u001b[39mres\n\u001b[1;32m     46\u001b[0m res\u001b[38;5;241m=\u001b[39mpd\u001b[38;5;241m.\u001b[39mDataFrame(temp_res)\n\u001b[1;32m     47\u001b[0m res\u001b[38;5;241m.\u001b[39mto_csv(\u001b[38;5;124m\"\u001b[39m\u001b[38;5;124mres2.csv\u001b[39m\u001b[38;5;124m\"\u001b[39m)\n",
      "\u001b[0;31mTypeError\u001b[0m: unhashable type: 'list'"
     ]
    }
   ],
   "source": [
    "import pandas as pd\n",
    "inpput=pd.read_csv(\"Candidates.csv\")\n",
    "badget=150000\n",
    "\n",
    "seniors=[]\n",
    "juniors=[]\n",
    "for i in range(len(inpput)):\n",
    "    row=inpput.iloc[i]\n",
    "    if row.experience==\"Junior\":\n",
    "        juniors.append([row.salary,row.employee_id])\n",
    "    else:\n",
    "        seniors.append([row.salary,row.employee_id])\n",
    "seniors.sort()\n",
    "juniors.sort()\n",
    "\n",
    "res_seniors=[]\n",
    "pos=0\n",
    "while badget>0 and pos<len(seniors):\n",
    "    if badget-seniors[pos][0]>0:\n",
    "        res_seniors.append(seniors[pos])\n",
    "        \n",
    "        \n",
    "        badget-=seniors[pos][0]\n",
    "        pos+=1\n",
    "    else:\n",
    "        break\n",
    "pos=0\n",
    "res_juniors=[]\n",
    "\n",
    "\n",
    "while badget>0 and pos<len(juniors):\n",
    "    if badget-juniors[pos][0]>0:\n",
    "        res_juniors.append(juniors[pos])\n",
    "        badget-=juniors[pos][0]\n",
    "        pos+=1\n",
    "    else:\n",
    "        break\n",
    "res=[]\n",
    "for i in res_seniors:\n",
    "    res.append(i[1])\n",
    "for i in res_juniors:\n",
    "    res.append(i[1])\n",
    "index=range(len(res))\n",
    "temp_res={}\n",
    "temp_res[index]=res\n",
    "res=pd.DataFrame(temp_res)\n",
    "res.to_csv(\"res2.csv\")\n"
   ]
  }
 ],
 "metadata": {
  "kernelspec": {
   "display_name": "Python 3 (ipykernel)",
   "language": "python",
   "name": "python3"
  },
  "language_info": {
   "codemirror_mode": {
    "name": "ipython",
    "version": 3
   },
   "file_extension": ".py",
   "mimetype": "text/x-python",
   "name": "python",
   "nbconvert_exporter": "python",
   "pygments_lexer": "ipython3",
   "version": "3.9.12"
  }
 },
 "nbformat": 4,
 "nbformat_minor": 5
}
