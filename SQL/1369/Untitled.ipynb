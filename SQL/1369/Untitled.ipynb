{
 "cells": [
  {
   "cell_type": "code",
   "execution_count": null,
   "id": "b6a96c52",
   "metadata": {},
   "outputs": [],
   "source": [
    "from random import randint,choice\n",
    "from datetime import datetime, timedelta\n",
    "\n",
    "min_year=2019\n",
    "max_year=datetime.now().year\n",
    "\n",
    "start = datetime(min_year, 1, 1, 00, 00, 00)\n",
    "years = max_year - min_year+1\n",
    "end = start + timedelta(days=365 * years)\n",
    "\n",
    "\n",
    "\n",
    "#done\n",
    "\n",
    "# or a function\n",
    "def gen_datetime(min_year=1900, max_year=datetime.now().year):\n",
    "    # generate a datetime in format yyyy-mm-dd hh:mm:ss.000000\n",
    "    start = datetime(min_year, 1, 1, 00, 00, 00)\n",
    "    years = max_year - min_year + 1\n",
    "    end = start + timedelta(days=365 * years)\n",
    "    return start + (end - start) * random.random()"
   ]
  },
  {
   "cell_type": "code",
   "execution_count": 20,
   "id": "61dac169",
   "metadata": {},
   "outputs": [],
   "source": [
    "# names=[\"alice\",\"bob\",\"matan\",\"raz\",\"romi\",\"may\",\"ziv\",\"lior\",\"dan\",\"vered\",\"ran\"]\n",
    "# activity=[\"running\",\"walking\",\"swiming\",\"dancinig\",\"sleeping\",\"eating\",\"working\"]\n",
    "# dates=[]\n",
    "# num_of_dates=100\n",
    "# for i in range(num_of_dates):\n",
    "#     dates.append(gen_datetime(2019))\n",
    "# dates.sort()\n",
    "# with open(\"UserActivity.csv\",\"w\")as file:\n",
    "#     i=0\n",
    "#     while i<num_of_dates-1:\n",
    "#         file.write(choice(names)+\",\"+choice(activity)+\",\"+dates[i].strftime(\"%y-%m-%d\")+\",\"+dates[i+1].strftime(\"%y-%m-%d\")+\"\\n\")\n",
    "#         i+=2\n",
    "\n"
   ]
  },
  {
   "cell_type": "code",
   "execution_count": 28,
   "id": "90550c5b",
   "metadata": {},
   "outputs": [],
   "source": [
    "def convert_str_to_date(s):\n",
    "    s=s.split(\"-\")\n",
    "    return datetime(int(s[0]),int(s[1]),int(s[2]))"
   ]
  },
  {
   "cell_type": "code",
   "execution_count": 39,
   "id": "ac4c464d",
   "metadata": {},
   "outputs": [],
   "source": [
    "users={}\n",
    "with open(\"UserActivity.csv\",\"r\")as file:\n",
    "    for i in file:\n",
    "        row=i[:-1].split(\",\")\n",
    "        if row[0] not in users:\n",
    "            users[row[0]]=[]\n",
    "        start=convert_str_to_date(row[2])\n",
    "        end=convert_str_to_date(row[3])\n",
    "        length=end-start\n",
    "        \n",
    "        users[row[0]].append([length.days,row])"
   ]
  },
  {
   "cell_type": "code",
   "execution_count": 45,
   "id": "25538489",
   "metadata": {},
   "outputs": [],
   "source": [
    "res=[]\n",
    "for i in users:\n",
    "    users[i].sort(key=lambda x:x[0],reverse=True)\n",
    "#     print(i,users[i])\n",
    "    if len(users[i])<2:\n",
    "        res.append(users[i][0])\n",
    "    else:\n",
    "        res.append(users[i][1])"
   ]
  },
  {
   "cell_type": "code",
   "execution_count": 52,
   "id": "e8687244",
   "metadata": {},
   "outputs": [],
   "source": [
    "with open(\"res.csv\",\"w\")as file:\n",
    "    for i in res:\n",
    "        file.write(\",\".join(i[1]))\n",
    "        "
   ]
  }
 ],
 "metadata": {
  "kernelspec": {
   "display_name": "Python 3 (ipykernel)",
   "language": "python",
   "name": "python3"
  },
  "language_info": {
   "codemirror_mode": {
    "name": "ipython",
    "version": 3
   },
   "file_extension": ".py",
   "mimetype": "text/x-python",
   "name": "python",
   "nbconvert_exporter": "python",
   "pygments_lexer": "ipython3",
   "version": "3.9.13"
  }
 },
 "nbformat": 4,
 "nbformat_minor": 5
}
