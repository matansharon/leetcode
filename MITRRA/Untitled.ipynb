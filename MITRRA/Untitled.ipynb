{
 "cells": [
  {
   "cell_type": "code",
   "execution_count": 8,
   "id": "74af4c08",
   "metadata": {},
   "outputs": [
    {
     "ename": "Exception",
     "evalue": "[IBM][CLI Driver] SQL1531N  The connection failed because the name specified with the DSN connection string keyword could not be found in either the db2dsdriver.cfg configuration file or the db2cli.ini configuration file.  Data source name specified in the connection string: \"M3\".  SQLCODE=-1531",
     "output_type": "error",
     "traceback": [
      "\u001b[1;31m---------------------------------------------------------------------------\u001b[0m",
      "\u001b[1;31mException\u001b[0m                                 Traceback (most recent call last)",
      "\u001b[1;32m~\\AppData\\Local\\Temp\\ipykernel_230192\\1901854199.py\u001b[0m in \u001b[0;36m<module>\u001b[1;34m\u001b[0m\n\u001b[0;32m      1\u001b[0m \u001b[1;32mimport\u001b[0m \u001b[0mibm_db\u001b[0m\u001b[1;33m\u001b[0m\u001b[1;33m\u001b[0m\u001b[0m\n\u001b[1;32m----> 2\u001b[1;33m \u001b[0mconn\u001b[0m \u001b[1;33m=\u001b[0m \u001b[0mibm_db\u001b[0m\u001b[1;33m.\u001b[0m\u001b[0mconnect\u001b[0m\u001b[1;33m(\u001b[0m\u001b[1;34m\"M3\"\u001b[0m\u001b[1;33m,\u001b[0m\u001b[1;34m\"pc\"\u001b[0m\u001b[1;33m,\u001b[0m\u001b[1;34m\"pc\"\u001b[0m\u001b[1;33m)\u001b[0m\u001b[1;33m\u001b[0m\u001b[1;33m\u001b[0m\u001b[0m\n\u001b[0m\u001b[0;32m      3\u001b[0m \u001b[1;33m\u001b[0m\u001b[0m\n",
      "\u001b[1;31mException\u001b[0m: [IBM][CLI Driver] SQL1531N  The connection failed because the name specified with the DSN connection string keyword could not be found in either the db2dsdriver.cfg configuration file or the db2cli.ini configuration file.  Data source name specified in the connection string: \"M3\".  SQLCODE=-1531"
     ]
    }
   ],
   "source": [
    "import ibm_db\n",
    "conn = ibm_db.connect(\"M3\",\"pc\",\"pc\")\n",
    "\n"
   ]
  },
  {
   "cell_type": "code",
   "execution_count": 60,
   "id": "68d9551f",
   "metadata": {},
   "outputs": [
    {
     "ename": "Error",
     "evalue": "('HY000', '[HY000] [IBM][System i Access ODBC Driver]Missing system name needed for connection. (30188) (SQLDriverConnect); [HY000] [IBM][System i Access ODBC Driver]Missing system name needed for connection. (30188)')",
     "output_type": "error",
     "traceback": [
      "\u001b[1;31m---------------------------------------------------------------------------\u001b[0m",
      "\u001b[1;31mError\u001b[0m                                     Traceback (most recent call last)",
      "\u001b[1;32m~\\AppData\\Local\\Temp\\ipykernel_230192\\3703887166.py\u001b[0m in \u001b[0;36m<module>\u001b[1;34m\u001b[0m\n\u001b[0;32m      1\u001b[0m \u001b[1;32mimport\u001b[0m \u001b[0mpyodbc\u001b[0m\u001b[1;33m\u001b[0m\u001b[1;33m\u001b[0m\u001b[0m\n\u001b[0;32m      2\u001b[0m \u001b[1;33m\u001b[0m\u001b[0m\n\u001b[1;32m----> 3\u001b[1;33m connection = pyodbc.connect(\n\u001b[0m\u001b[0;32m      4\u001b[0m     \u001b[0mdriver\u001b[0m\u001b[1;33m=\u001b[0m\u001b[1;34m'{iSeries Access ODBC Driver}'\u001b[0m\u001b[1;33m,\u001b[0m\u001b[1;33m\u001b[0m\u001b[1;33m\u001b[0m\u001b[0m\n\u001b[0;32m      5\u001b[0m     \u001b[0msystem\u001b[0m\u001b[1;33m=\u001b[0m\u001b[1;34m'192.168.0.161'\u001b[0m\u001b[1;33m,\u001b[0m\u001b[1;33m\u001b[0m\u001b[1;33m\u001b[0m\u001b[0m\n",
      "\u001b[1;31mError\u001b[0m: ('HY000', '[HY000] [IBM][System i Access ODBC Driver]Missing system name needed for connection. (30188) (SQLDriverConnect); [HY000] [IBM][System i Access ODBC Driver]Missing system name needed for connection. (30188)')"
     ]
    }
   ],
   "source": [
    "import pyodbc\n",
    "\n",
    "connection = pyodbc.connect(\n",
    "    driver='{iSeries Access ODBC Driver}',\n",
    "    system='192.168.0.161',\n",
    "    uid='pc',\n",
    "    pwd='pc')\n",
    "c1 = connection.cursor()\n",
    "\n",
    "c1.execute('select * from libname.filename')\n",
    "\n"
   ]
  },
  {
   "cell_type": "code",
   "execution_count": 26,
   "id": "3aa7e044",
   "metadata": {},
   "outputs": [
    {
     "data": {
      "text/plain": [
       "['SQL Server',\n",
       " 'Microsoft Access Driver (*.mdb, *.accdb)',\n",
       " 'Microsoft Excel Driver (*.xls, *.xlsx, *.xlsm, *.xlsb)',\n",
       " 'Microsoft Access Text Driver (*.txt, *.csv)',\n",
       " 'SQL Server Native Client 11.0',\n",
       " 'SQL Server Native Client RDA 11.0',\n",
       " 'ODBC Driver 17 for SQL Server',\n",
       " 'Client Access ODBC Driver (32-bit)',\n",
       " 'iSeries Access ODBC Driver',\n",
       " 'IBM i Access ODBC Driver']"
      ]
     },
     "execution_count": 26,
     "metadata": {},
     "output_type": "execute_result"
    }
   ],
   "source": [
    "pyodbc.drivers()"
   ]
  },
  {
   "cell_type": "code",
   "execution_count": 57,
   "id": "d61b14fb",
   "metadata": {},
   "outputs": [
    {
     "name": "stderr",
     "output_type": "stream",
     "text": [
      "C:\\Users\\matan.s\\Anaconda3\\lib\\site-packages\\pandas\\io\\sql.py:762: UserWarning: pandas only support SQLAlchemy connectable(engine/connection) ordatabase string URI or sqlite3 DBAPI2 connectionother DBAPI2 objects are not tested, please consider using SQLAlchemy\n",
      "  warnings.warn(\n"
     ]
    }
   ],
   "source": [
    "import pyodbc\n",
    "import pandas as pd\n",
    "connection_string = (\"Driver={SQL Server Native Client 11.0};\"\n",
    "            \"Server=BI-DB;\"\n",
    "            \"Database=STAGES;\"\n",
    "            \"UID=sa;\"\n",
    "            \"PWD=p@Ackage5;\")\n",
    "cnxn = pyodbc.connect(connection_string)\n",
    "\n",
    "\n",
    "sql = \"SELECT TOP(10) * FROM S0_MATDAM\"\n",
    "data = pd.read_sql(sql,cnxn)\n"
   ]
  },
  {
   "cell_type": "code",
   "execution_count": 58,
   "id": "0941d9cc",
   "metadata": {},
   "outputs": [
    {
     "name": "stdout",
     "output_type": "stream",
     "text": [
      "AKCONO                                        1.0\n",
      "AKATID                                    BLOCKED\n",
      "AKOBV1                                        311\n",
      "AKOBV2                                      11175\n",
      "AKOBV3                                     561489\n",
      "AKDEVA                                          B\n",
      "AKOBJC                                           \n",
      "AKDEVN                                        0.0\n",
      "AKFMID                                           \n",
      "AKFORI                                           \n",
      "AKAVRP                                        0.0\n",
      "AKAVRV                                        0.0\n",
      "AKAFRF                                           \n",
      "AKATRF                                           \n",
      "AKATRP                                        0.0\n",
      "AKATRV                                        0.0\n",
      "AKPREX                                          2\n",
      "AKOBJ2                                           \n",
      "AKOBJ3                                           \n",
      "AKINHC                                        0.0\n",
      "AKRGDT                                 20220904.0\n",
      "AKRGTM                                   110645.0\n",
      "AKLMDT                                 20220904.0\n",
      "AKCHNO                                        1.0\n",
      "AKCHID                                    IMASTER\n",
      "AKLMTS                            1662278805102.0\n",
      "AKOBID                                           \n",
      "AKTXID                                        0.0\n",
      "Row_update_datetime    2022-11-23 00:46:04.690000\n",
      "Name: 0, dtype: object\n"
     ]
    }
   ],
   "source": [
    "print(data.iloc[0])"
   ]
  }
 ],
 "metadata": {
  "kernelspec": {
   "display_name": "Python 3 (ipykernel)",
   "language": "python",
   "name": "python3"
  },
  "language_info": {
   "codemirror_mode": {
    "name": "ipython",
    "version": 3
   },
   "file_extension": ".py",
   "mimetype": "text/x-python",
   "name": "python",
   "nbconvert_exporter": "python",
   "pygments_lexer": "ipython3",
   "version": "3.9.13"
  }
 },
 "nbformat": 4,
 "nbformat_minor": 5
}
